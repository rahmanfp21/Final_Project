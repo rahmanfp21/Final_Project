{
 "cells": [
  {
   "cell_type": "code",
   "execution_count": 1,
   "metadata": {
    "ExecuteTime": {
     "end_time": "2020-04-13T10:07:32.200126Z",
     "start_time": "2020-04-13T10:07:27.979086Z"
    }
   },
   "outputs": [],
   "source": [
    "import pandas as pd\n",
    "import numpy as np\n",
    "import matplotlib.pyplot as plt\n",
    "import seaborn as sns\n",
    "import re\n",
    "from nltk.tokenize import TweetTokenizer\n",
    "from nltk.stem.wordnet import WordNetLemmatizer\n",
    "from nltk.corpus import stopwords\n",
    "import string\n",
    "from sklearn.feature_extraction.text import CountVectorizer, TfidfVectorizer\n",
    "from sklearn.pipeline import Pipeline, FeatureUnion\n",
    "from sklearn.model_selection import cross_val_score\n",
    "from sklearn.base import BaseEstimator, TransformerMixin\n",
    "from pprint import pprint\n",
    "from sklearn.model_selection import train_test_split\n",
    "from sklearn.naive_bayes import MultinomialNB\n",
    "from sklearn.model_selection import GridSearchCV\n",
    "from sklearn.model_selection import RandomizedSearchCV\n",
    "from sklearn.pipeline import Pipeline, FeatureUnion\n",
    "from sklearn.linear_model import LogisticRegression\n",
    "from sklearn.naive_bayes import MultinomialNB\n",
    "from sklearn.metrics import classification_report, confusion_matrix, roc_curve, accuracy_score, matthews_corrcoef, auc, log_loss\n",
    "from sklearn.model_selection import GridSearchCV\n",
    "import pickle\n",
    "from sklearn.preprocessing import OneHotEncoder\n",
    "from sklearn.pipeline import make_pipeline\n",
    "from sklearn.pipeline import Pipeline\n",
    "from sklearn.compose import ColumnTransformer\n",
    "\n",
    "lem = WordNetLemmatizer()\n",
    "tokenizer=TweetTokenizer()\n",
    "eng_stopwords = set(stopwords.words(\"english\"))\n",
    "%matplotlib inline\n",
    "pd.set_option('display.max_columns',None)"
   ]
  },
  {
   "cell_type": "code",
   "execution_count": 2,
   "metadata": {
    "ExecuteTime": {
     "end_time": "2020-04-13T10:07:33.295496Z",
     "start_time": "2020-04-13T10:07:32.204124Z"
    }
   },
   "outputs": [
    {
     "data": {
      "text/html": [
       "<div>\n",
       "<style scoped>\n",
       "    .dataframe tbody tr th:only-of-type {\n",
       "        vertical-align: middle;\n",
       "    }\n",
       "\n",
       "    .dataframe tbody tr th {\n",
       "        vertical-align: top;\n",
       "    }\n",
       "\n",
       "    .dataframe thead th {\n",
       "        text-align: right;\n",
       "    }\n",
       "</style>\n",
       "<table border=\"1\" class=\"dataframe\">\n",
       "  <thead>\n",
       "    <tr style=\"text-align: right;\">\n",
       "      <th></th>\n",
       "      <th>id</th>\n",
       "      <th>comment_text</th>\n",
       "      <th>toxic</th>\n",
       "      <th>severe_toxic</th>\n",
       "      <th>obscene</th>\n",
       "      <th>threat</th>\n",
       "      <th>insult</th>\n",
       "      <th>identity_hate</th>\n",
       "    </tr>\n",
       "  </thead>\n",
       "  <tbody>\n",
       "    <tr>\n",
       "      <td>0</td>\n",
       "      <td>0000997932d777bf</td>\n",
       "      <td>Explanation\\nWhy the edits made under my usern...</td>\n",
       "      <td>0</td>\n",
       "      <td>0</td>\n",
       "      <td>0</td>\n",
       "      <td>0</td>\n",
       "      <td>0</td>\n",
       "      <td>0</td>\n",
       "    </tr>\n",
       "    <tr>\n",
       "      <td>1</td>\n",
       "      <td>000103f0d9cfb60f</td>\n",
       "      <td>D'aww! He matches this background colour I'm s...</td>\n",
       "      <td>0</td>\n",
       "      <td>0</td>\n",
       "      <td>0</td>\n",
       "      <td>0</td>\n",
       "      <td>0</td>\n",
       "      <td>0</td>\n",
       "    </tr>\n",
       "    <tr>\n",
       "      <td>2</td>\n",
       "      <td>000113f07ec002fd</td>\n",
       "      <td>Hey man, I'm really not trying to edit war. It...</td>\n",
       "      <td>0</td>\n",
       "      <td>0</td>\n",
       "      <td>0</td>\n",
       "      <td>0</td>\n",
       "      <td>0</td>\n",
       "      <td>0</td>\n",
       "    </tr>\n",
       "    <tr>\n",
       "      <td>3</td>\n",
       "      <td>0001b41b1c6bb37e</td>\n",
       "      <td>\"\\nMore\\nI can't make any real suggestions on ...</td>\n",
       "      <td>0</td>\n",
       "      <td>0</td>\n",
       "      <td>0</td>\n",
       "      <td>0</td>\n",
       "      <td>0</td>\n",
       "      <td>0</td>\n",
       "    </tr>\n",
       "    <tr>\n",
       "      <td>4</td>\n",
       "      <td>0001d958c54c6e35</td>\n",
       "      <td>You, sir, are my hero. Any chance you remember...</td>\n",
       "      <td>0</td>\n",
       "      <td>0</td>\n",
       "      <td>0</td>\n",
       "      <td>0</td>\n",
       "      <td>0</td>\n",
       "      <td>0</td>\n",
       "    </tr>\n",
       "    <tr>\n",
       "      <td>...</td>\n",
       "      <td>...</td>\n",
       "      <td>...</td>\n",
       "      <td>...</td>\n",
       "      <td>...</td>\n",
       "      <td>...</td>\n",
       "      <td>...</td>\n",
       "      <td>...</td>\n",
       "      <td>...</td>\n",
       "    </tr>\n",
       "    <tr>\n",
       "      <td>159566</td>\n",
       "      <td>ffe987279560d7ff</td>\n",
       "      <td>\":::::And for the second time of asking, when ...</td>\n",
       "      <td>0</td>\n",
       "      <td>0</td>\n",
       "      <td>0</td>\n",
       "      <td>0</td>\n",
       "      <td>0</td>\n",
       "      <td>0</td>\n",
       "    </tr>\n",
       "    <tr>\n",
       "      <td>159567</td>\n",
       "      <td>ffea4adeee384e90</td>\n",
       "      <td>You should be ashamed of yourself \\n\\nThat is ...</td>\n",
       "      <td>0</td>\n",
       "      <td>0</td>\n",
       "      <td>0</td>\n",
       "      <td>0</td>\n",
       "      <td>0</td>\n",
       "      <td>0</td>\n",
       "    </tr>\n",
       "    <tr>\n",
       "      <td>159568</td>\n",
       "      <td>ffee36eab5c267c9</td>\n",
       "      <td>Spitzer \\n\\nUmm, theres no actual article for ...</td>\n",
       "      <td>0</td>\n",
       "      <td>0</td>\n",
       "      <td>0</td>\n",
       "      <td>0</td>\n",
       "      <td>0</td>\n",
       "      <td>0</td>\n",
       "    </tr>\n",
       "    <tr>\n",
       "      <td>159569</td>\n",
       "      <td>fff125370e4aaaf3</td>\n",
       "      <td>And it looks like it was actually you who put ...</td>\n",
       "      <td>0</td>\n",
       "      <td>0</td>\n",
       "      <td>0</td>\n",
       "      <td>0</td>\n",
       "      <td>0</td>\n",
       "      <td>0</td>\n",
       "    </tr>\n",
       "    <tr>\n",
       "      <td>159570</td>\n",
       "      <td>fff46fc426af1f9a</td>\n",
       "      <td>\"\\nAnd ... I really don't think you understand...</td>\n",
       "      <td>0</td>\n",
       "      <td>0</td>\n",
       "      <td>0</td>\n",
       "      <td>0</td>\n",
       "      <td>0</td>\n",
       "      <td>0</td>\n",
       "    </tr>\n",
       "  </tbody>\n",
       "</table>\n",
       "<p>159571 rows × 8 columns</p>\n",
       "</div>"
      ],
      "text/plain": [
       "                      id                                       comment_text  \\\n",
       "0       0000997932d777bf  Explanation\\nWhy the edits made under my usern...   \n",
       "1       000103f0d9cfb60f  D'aww! He matches this background colour I'm s...   \n",
       "2       000113f07ec002fd  Hey man, I'm really not trying to edit war. It...   \n",
       "3       0001b41b1c6bb37e  \"\\nMore\\nI can't make any real suggestions on ...   \n",
       "4       0001d958c54c6e35  You, sir, are my hero. Any chance you remember...   \n",
       "...                  ...                                                ...   \n",
       "159566  ffe987279560d7ff  \":::::And for the second time of asking, when ...   \n",
       "159567  ffea4adeee384e90  You should be ashamed of yourself \\n\\nThat is ...   \n",
       "159568  ffee36eab5c267c9  Spitzer \\n\\nUmm, theres no actual article for ...   \n",
       "159569  fff125370e4aaaf3  And it looks like it was actually you who put ...   \n",
       "159570  fff46fc426af1f9a  \"\\nAnd ... I really don't think you understand...   \n",
       "\n",
       "        toxic  severe_toxic  obscene  threat  insult  identity_hate  \n",
       "0           0             0        0       0       0              0  \n",
       "1           0             0        0       0       0              0  \n",
       "2           0             0        0       0       0              0  \n",
       "3           0             0        0       0       0              0  \n",
       "4           0             0        0       0       0              0  \n",
       "...       ...           ...      ...     ...     ...            ...  \n",
       "159566      0             0        0       0       0              0  \n",
       "159567      0             0        0       0       0              0  \n",
       "159568      0             0        0       0       0              0  \n",
       "159569      0             0        0       0       0              0  \n",
       "159570      0             0        0       0       0              0  \n",
       "\n",
       "[159571 rows x 8 columns]"
      ]
     },
     "execution_count": 2,
     "metadata": {},
     "output_type": "execute_result"
    }
   ],
   "source": [
    "# Read csv file\n",
    "df = pd.read_csv('train.csv')\n",
    "df"
   ]
  },
  {
   "cell_type": "code",
   "execution_count": 3,
   "metadata": {
    "ExecuteTime": {
     "end_time": "2020-04-13T10:07:33.305490Z",
     "start_time": "2020-04-13T10:07:33.297495Z"
    }
   },
   "outputs": [],
   "source": [
    "# Create a clean comment column\n",
    "def not_hate(df):\n",
    "    if df['toxic'] + df['severe_toxic'] + df['obscene'] + df['threat'] + df['insult'] + df['identity_hate'] == 0:\n",
    "        return 1\n",
    "    else:\n",
    "        return 0\n",
    "    \n",
    "# Create a hate comment column\n",
    "def hate(df):\n",
    "    if df['toxic'] + df['severe_toxic'] + df['obscene'] + df['threat'] + df['insult'] + df['identity_hate'] == 0:\n",
    "        return 0\n",
    "    else:\n",
    "        return 1"
   ]
  },
  {
   "cell_type": "code",
   "execution_count": 4,
   "metadata": {
    "ExecuteTime": {
     "end_time": "2020-04-13T10:07:51.973283Z",
     "start_time": "2020-04-13T10:07:33.307489Z"
    }
   },
   "outputs": [],
   "source": [
    "df['not_hate'] = df.apply(not_hate, axis=1)\n",
    "df['hate'] = df.apply(hate, axis=1)"
   ]
  },
  {
   "cell_type": "code",
   "execution_count": 5,
   "metadata": {
    "ExecuteTime": {
     "end_time": "2020-04-13T10:07:51.993272Z",
     "start_time": "2020-04-13T10:07:51.975286Z"
    }
   },
   "outputs": [],
   "source": [
    "# Define appostrophe list\n",
    "APPO = {\n",
    "\"aren't\" : \"are not\",\n",
    "\"can't\" : \"can not\",\n",
    "\"couldn't\" : \"could not\",\n",
    "\"didn't\" : \"did not\",\n",
    "\"doesn't\" : \"does not\",\n",
    "\"don't\" : \"do not\",\n",
    "\"hadn't\" : \"had not\",\n",
    "\"hasn't\" : \"has not\",\n",
    "\"haven't\" : \"have not\",\n",
    "\"he'd\" : \"he would\",\n",
    "\"he'll\" : \"he will\",\n",
    "\"he's\" : \"he is\",\n",
    "\"i'd\" : \"i would\",\n",
    "\"i'd\" : \"i had\",\n",
    "\"i'll\" : \"i will\",\n",
    "\"i'm\" : \"i am\",\n",
    "\"isn't\" : \"is not\",\n",
    "\"it's\" : \"it is\",\n",
    "\"it'll\":\"it will\",\n",
    "\"i've\" : \"i have\",\n",
    "\"let's\" : \"let us\",\n",
    "\"mightn't\" : \"might not\",\n",
    "\"mustn't\" : \"must not\",\n",
    "\"shan't\" : \"shall not\",\n",
    "\"she'd\" : \"she would\",\n",
    "\"she'll\" : \"she will\",\n",
    "\"she's\" : \"she is\",\n",
    "\"shouldn't\" : \"should not\",\n",
    "\"that's\" : \"that is\",\n",
    "\"there's\" : \"there is\",\n",
    "\"they'd\" : \"they would\",\n",
    "\"they'll\" : \"they will\",\n",
    "\"they're\" : \"they are\",\n",
    "\"they've\" : \"they have\",\n",
    "\"we'd\" : \"we would\",\n",
    "\"we're\" : \"we are\",\n",
    "\"weren't\" : \"were not\",\n",
    "\"we've\" : \"we have\",\n",
    "\"what'll\" : \"what will\",\n",
    "\"what're\" : \"what are\",\n",
    "\"what's\" : \"what is\",\n",
    "\"what've\" : \"what have\",\n",
    "\"where's\" : \"where is\",\n",
    "\"who'd\" : \"who would\",\n",
    "\"who'll\" : \"who will\",\n",
    "\"who're\" : \"who are\",\n",
    "\"who's\" : \"who is\",\n",
    "\"who've\" : \"who have\",\n",
    "\"won't\" : \"will not\",\n",
    "\"wouldn't\" : \"would not\",\n",
    "\"you'd\" : \"you would\",\n",
    "\"you'll\" : \"you will\",\n",
    "\"you're\" : \"you are\",\n",
    "\"you've\" : \"you have\",\n",
    "\"'re\": \" are\",\n",
    "\"wasn't\": \"was not\",\n",
    "\"we'll\":\" will\",\n",
    "\"didn't\": \"did not\"\n",
    "}"
   ]
  },
  {
   "cell_type": "code",
   "execution_count": 6,
   "metadata": {
    "ExecuteTime": {
     "end_time": "2020-04-13T10:07:52.009264Z",
     "start_time": "2020-04-13T10:07:51.996271Z"
    }
   },
   "outputs": [],
   "source": [
    "def inside_info(df):\n",
    "    # Percentage of capital letter to all letter\n",
    "    df['exclamation'] = df['comment_text'].apply(lambda x: len(re.findall('!',x))/len(x))\n",
    "    # Percentage of ! to all letter\n",
    "    df['capital_letter_percent'] = df['comment_text'].apply(lambda x: len(re.findall('[A-Z]',x))/len(x))\n",
    "    # Percentage of capital word to all word\n",
    "    df['capital_word_percent'] = df['comment_text'].apply(lambda x: len([w for w in x.split() if w.isupper()])/len(x.split()))\n",
    "    return df"
   ]
  },
  {
   "cell_type": "code",
   "execution_count": 7,
   "metadata": {
    "ExecuteTime": {
     "end_time": "2020-04-13T10:07:56.571642Z",
     "start_time": "2020-04-13T10:07:52.013262Z"
    }
   },
   "outputs": [
    {
     "data": {
      "text/html": [
       "<div>\n",
       "<style scoped>\n",
       "    .dataframe tbody tr th:only-of-type {\n",
       "        vertical-align: middle;\n",
       "    }\n",
       "\n",
       "    .dataframe tbody tr th {\n",
       "        vertical-align: top;\n",
       "    }\n",
       "\n",
       "    .dataframe thead th {\n",
       "        text-align: right;\n",
       "    }\n",
       "</style>\n",
       "<table border=\"1\" class=\"dataframe\">\n",
       "  <thead>\n",
       "    <tr style=\"text-align: right;\">\n",
       "      <th></th>\n",
       "      <th>id</th>\n",
       "      <th>comment_text</th>\n",
       "      <th>toxic</th>\n",
       "      <th>severe_toxic</th>\n",
       "      <th>obscene</th>\n",
       "      <th>threat</th>\n",
       "      <th>insult</th>\n",
       "      <th>identity_hate</th>\n",
       "      <th>not_hate</th>\n",
       "      <th>hate</th>\n",
       "      <th>exclamation</th>\n",
       "      <th>capital_letter_percent</th>\n",
       "      <th>capital_word_percent</th>\n",
       "    </tr>\n",
       "  </thead>\n",
       "  <tbody>\n",
       "    <tr>\n",
       "      <td>0</td>\n",
       "      <td>0000997932d777bf</td>\n",
       "      <td>Explanation\\nWhy the edits made under my usern...</td>\n",
       "      <td>0</td>\n",
       "      <td>0</td>\n",
       "      <td>0</td>\n",
       "      <td>0</td>\n",
       "      <td>0</td>\n",
       "      <td>0</td>\n",
       "      <td>1</td>\n",
       "      <td>0</td>\n",
       "      <td>0.000000</td>\n",
       "      <td>0.064394</td>\n",
       "      <td>0.046512</td>\n",
       "    </tr>\n",
       "    <tr>\n",
       "      <td>1</td>\n",
       "      <td>000103f0d9cfb60f</td>\n",
       "      <td>D'aww! He matches this background colour I'm s...</td>\n",
       "      <td>0</td>\n",
       "      <td>0</td>\n",
       "      <td>0</td>\n",
       "      <td>0</td>\n",
       "      <td>0</td>\n",
       "      <td>0</td>\n",
       "      <td>1</td>\n",
       "      <td>0</td>\n",
       "      <td>0.008929</td>\n",
       "      <td>0.071429</td>\n",
       "      <td>0.058824</td>\n",
       "    </tr>\n",
       "    <tr>\n",
       "      <td>2</td>\n",
       "      <td>000113f07ec002fd</td>\n",
       "      <td>Hey man, I'm really not trying to edit war. It...</td>\n",
       "      <td>0</td>\n",
       "      <td>0</td>\n",
       "      <td>0</td>\n",
       "      <td>0</td>\n",
       "      <td>0</td>\n",
       "      <td>0</td>\n",
       "      <td>1</td>\n",
       "      <td>0</td>\n",
       "      <td>0.000000</td>\n",
       "      <td>0.017167</td>\n",
       "      <td>0.000000</td>\n",
       "    </tr>\n",
       "    <tr>\n",
       "      <td>3</td>\n",
       "      <td>0001b41b1c6bb37e</td>\n",
       "      <td>\"\\nMore\\nI can't make any real suggestions on ...</td>\n",
       "      <td>0</td>\n",
       "      <td>0</td>\n",
       "      <td>0</td>\n",
       "      <td>0</td>\n",
       "      <td>0</td>\n",
       "      <td>0</td>\n",
       "      <td>1</td>\n",
       "      <td>0</td>\n",
       "      <td>0.000000</td>\n",
       "      <td>0.017685</td>\n",
       "      <td>0.044248</td>\n",
       "    </tr>\n",
       "    <tr>\n",
       "      <td>4</td>\n",
       "      <td>0001d958c54c6e35</td>\n",
       "      <td>You, sir, are my hero. Any chance you remember...</td>\n",
       "      <td>0</td>\n",
       "      <td>0</td>\n",
       "      <td>0</td>\n",
       "      <td>0</td>\n",
       "      <td>0</td>\n",
       "      <td>0</td>\n",
       "      <td>1</td>\n",
       "      <td>0</td>\n",
       "      <td>0.000000</td>\n",
       "      <td>0.029851</td>\n",
       "      <td>0.000000</td>\n",
       "    </tr>\n",
       "    <tr>\n",
       "      <td>...</td>\n",
       "      <td>...</td>\n",
       "      <td>...</td>\n",
       "      <td>...</td>\n",
       "      <td>...</td>\n",
       "      <td>...</td>\n",
       "      <td>...</td>\n",
       "      <td>...</td>\n",
       "      <td>...</td>\n",
       "      <td>...</td>\n",
       "      <td>...</td>\n",
       "      <td>...</td>\n",
       "      <td>...</td>\n",
       "      <td>...</td>\n",
       "    </tr>\n",
       "    <tr>\n",
       "      <td>159566</td>\n",
       "      <td>ffe987279560d7ff</td>\n",
       "      <td>\":::::And for the second time of asking, when ...</td>\n",
       "      <td>0</td>\n",
       "      <td>0</td>\n",
       "      <td>0</td>\n",
       "      <td>0</td>\n",
       "      <td>0</td>\n",
       "      <td>0</td>\n",
       "      <td>1</td>\n",
       "      <td>0</td>\n",
       "      <td>0.000000</td>\n",
       "      <td>0.006780</td>\n",
       "      <td>0.000000</td>\n",
       "    </tr>\n",
       "    <tr>\n",
       "      <td>159567</td>\n",
       "      <td>ffea4adeee384e90</td>\n",
       "      <td>You should be ashamed of yourself \\n\\nThat is ...</td>\n",
       "      <td>0</td>\n",
       "      <td>0</td>\n",
       "      <td>0</td>\n",
       "      <td>0</td>\n",
       "      <td>0</td>\n",
       "      <td>0</td>\n",
       "      <td>1</td>\n",
       "      <td>0</td>\n",
       "      <td>0.000000</td>\n",
       "      <td>0.020202</td>\n",
       "      <td>0.000000</td>\n",
       "    </tr>\n",
       "    <tr>\n",
       "      <td>159568</td>\n",
       "      <td>ffee36eab5c267c9</td>\n",
       "      <td>Spitzer \\n\\nUmm, theres no actual article for ...</td>\n",
       "      <td>0</td>\n",
       "      <td>0</td>\n",
       "      <td>0</td>\n",
       "      <td>0</td>\n",
       "      <td>0</td>\n",
       "      <td>0</td>\n",
       "      <td>1</td>\n",
       "      <td>0</td>\n",
       "      <td>0.000000</td>\n",
       "      <td>0.049383</td>\n",
       "      <td>0.000000</td>\n",
       "    </tr>\n",
       "    <tr>\n",
       "      <td>159569</td>\n",
       "      <td>fff125370e4aaaf3</td>\n",
       "      <td>And it looks like it was actually you who put ...</td>\n",
       "      <td>0</td>\n",
       "      <td>0</td>\n",
       "      <td>0</td>\n",
       "      <td>0</td>\n",
       "      <td>0</td>\n",
       "      <td>0</td>\n",
       "      <td>1</td>\n",
       "      <td>0</td>\n",
       "      <td>0.000000</td>\n",
       "      <td>0.017241</td>\n",
       "      <td>0.040000</td>\n",
       "    </tr>\n",
       "    <tr>\n",
       "      <td>159570</td>\n",
       "      <td>fff46fc426af1f9a</td>\n",
       "      <td>\"\\nAnd ... I really don't think you understand...</td>\n",
       "      <td>0</td>\n",
       "      <td>0</td>\n",
       "      <td>0</td>\n",
       "      <td>0</td>\n",
       "      <td>0</td>\n",
       "      <td>0</td>\n",
       "      <td>1</td>\n",
       "      <td>0</td>\n",
       "      <td>0.000000</td>\n",
       "      <td>0.021164</td>\n",
       "      <td>0.055556</td>\n",
       "    </tr>\n",
       "  </tbody>\n",
       "</table>\n",
       "<p>159571 rows × 13 columns</p>\n",
       "</div>"
      ],
      "text/plain": [
       "                      id                                       comment_text  \\\n",
       "0       0000997932d777bf  Explanation\\nWhy the edits made under my usern...   \n",
       "1       000103f0d9cfb60f  D'aww! He matches this background colour I'm s...   \n",
       "2       000113f07ec002fd  Hey man, I'm really not trying to edit war. It...   \n",
       "3       0001b41b1c6bb37e  \"\\nMore\\nI can't make any real suggestions on ...   \n",
       "4       0001d958c54c6e35  You, sir, are my hero. Any chance you remember...   \n",
       "...                  ...                                                ...   \n",
       "159566  ffe987279560d7ff  \":::::And for the second time of asking, when ...   \n",
       "159567  ffea4adeee384e90  You should be ashamed of yourself \\n\\nThat is ...   \n",
       "159568  ffee36eab5c267c9  Spitzer \\n\\nUmm, theres no actual article for ...   \n",
       "159569  fff125370e4aaaf3  And it looks like it was actually you who put ...   \n",
       "159570  fff46fc426af1f9a  \"\\nAnd ... I really don't think you understand...   \n",
       "\n",
       "        toxic  severe_toxic  obscene  threat  insult  identity_hate  not_hate  \\\n",
       "0           0             0        0       0       0              0         1   \n",
       "1           0             0        0       0       0              0         1   \n",
       "2           0             0        0       0       0              0         1   \n",
       "3           0             0        0       0       0              0         1   \n",
       "4           0             0        0       0       0              0         1   \n",
       "...       ...           ...      ...     ...     ...            ...       ...   \n",
       "159566      0             0        0       0       0              0         1   \n",
       "159567      0             0        0       0       0              0         1   \n",
       "159568      0             0        0       0       0              0         1   \n",
       "159569      0             0        0       0       0              0         1   \n",
       "159570      0             0        0       0       0              0         1   \n",
       "\n",
       "        hate  exclamation  capital_letter_percent  capital_word_percent  \n",
       "0          0     0.000000                0.064394              0.046512  \n",
       "1          0     0.008929                0.071429              0.058824  \n",
       "2          0     0.000000                0.017167              0.000000  \n",
       "3          0     0.000000                0.017685              0.044248  \n",
       "4          0     0.000000                0.029851              0.000000  \n",
       "...      ...          ...                     ...                   ...  \n",
       "159566     0     0.000000                0.006780              0.000000  \n",
       "159567     0     0.000000                0.020202              0.000000  \n",
       "159568     0     0.000000                0.049383              0.000000  \n",
       "159569     0     0.000000                0.017241              0.040000  \n",
       "159570     0     0.000000                0.021164              0.055556  \n",
       "\n",
       "[159571 rows x 13 columns]"
      ]
     },
     "execution_count": 7,
     "metadata": {},
     "output_type": "execute_result"
    }
   ],
   "source": [
    "inside_info(df)"
   ]
  },
  {
   "cell_type": "code",
   "execution_count": 8,
   "metadata": {
    "ExecuteTime": {
     "end_time": "2020-04-13T10:07:56.587631Z",
     "start_time": "2020-04-13T10:07:56.575640Z"
    }
   },
   "outputs": [],
   "source": [
    "def clean(comment):\n",
    "\n",
    "    comment=comment.lower()\n",
    "    comment = re.sub(r'\\\\n','',comment)\n",
    "    comment = re.sub(r'wikipedia:.*#[\\.\\S]+[a-z]', '', comment)\n",
    "    comment = re.sub(r'http[\\.\\S]+[\\.\\S]', '', comment)\n",
    "    comment = re.sub(r'[0-9\\.\\:]*[0-9]', '', comment)\n",
    "    comment = re.sub(r'file:.*jpg', '', comment)\n",
    "    comment = re.sub(r'\\.gif', '', comment)\n",
    "    comment = re.sub(r'\\[\\[user(.*)\\|', '', comment)\n",
    "    comment = re.sub(r'www[\\.\\S]+[\\.\\S]','', comment)\n",
    "    comment = re.sub(r'http', '', comment)\n",
    "    \n",
    "    # add wikipedia to reduce size\n",
    "    comment = re.sub(r'wikipedia', '', comment)\n",
    "    \n",
    "    #Split the sentences into words\n",
    "    words = tokenizer.tokenize(comment)\n",
    "    \n",
    "    whitelist = [\"not\", \"no\"]\n",
    "    words = [APPO[word] if word in APPO else word for word in words]\n",
    "    words = [lem.lemmatize(word, \"v\") for word in words]\n",
    "    words = [word.split() for word in words]\n",
    "    words = [item for sublist in words for item in sublist]\n",
    "    words = [char for char in words if char not in string.punctuation]\n",
    "    words = [word for word in words if (word not in eng_stopwords or word in whitelist) and len(word) > 1]\n",
    "    words = [lem.lemmatize(word, \"v\") for word in words]\n",
    "    \n",
    "    clean_sent=\" \".join(words)\n",
    "    \n",
    "    b = re.findall(\"[\\'\\sa-zA-Z]\", clean_sent)\n",
    "    clean_sent = ''.join(b)\n",
    "    return(clean_sent)"
   ]
  },
  {
   "cell_type": "code",
   "execution_count": 9,
   "metadata": {
    "ExecuteTime": {
     "end_time": "2020-04-13T10:10:15.195936Z",
     "start_time": "2020-04-13T10:07:56.590630Z"
    }
   },
   "outputs": [],
   "source": [
    "df['clean_text'] = df['comment_text'].apply(clean)"
   ]
  },
  {
   "cell_type": "code",
   "execution_count": 10,
   "metadata": {
    "ExecuteTime": {
     "end_time": "2020-04-13T10:10:15.254919Z",
     "start_time": "2020-04-13T10:10:15.196935Z"
    }
   },
   "outputs": [],
   "source": [
    "df_eda = df[['comment_text', 'exclamation', 'capital_word_percent', 'capital_letter_percent', 'clean_text', 'hate']]"
   ]
  },
  {
   "cell_type": "code",
   "execution_count": 11,
   "metadata": {
    "ExecuteTime": {
     "end_time": "2020-04-13T10:10:15.316879Z",
     "start_time": "2020-04-13T10:10:15.255900Z"
    }
   },
   "outputs": [
    {
     "name": "stdout",
     "output_type": "stream",
     "text": [
      "111699 47872 159571\n"
     ]
    }
   ],
   "source": [
    "hate_train, hate_test, label_train, label_test = \\\n",
    "train_test_split(df_eda.drop('hate', axis=1), df_eda['hate'], test_size=0.3, random_state=101)\n",
    "\n",
    "print(len(hate_train), len(hate_test), len(hate_train) + len(hate_test))"
   ]
  },
  {
   "cell_type": "code",
   "execution_count": 12,
   "metadata": {
    "ExecuteTime": {
     "end_time": "2020-04-13T10:10:15.333856Z",
     "start_time": "2020-04-13T10:10:15.318863Z"
    }
   },
   "outputs": [],
   "source": [
    "# Create a function to test which pair of vector and model that has the best evaluation score\n",
    "def vector_model(X_train, X_test, y_train, y_test):\n",
    "    \n",
    "    vectorizer = {'tfidf_vector': TfidfVectorizer(), 'count_vector': CountVectorizer()}\n",
    "    model = {'Naive-Bayes': MultinomialNB(), 'Logit': LogisticRegression()}\n",
    "    \n",
    "    add_info = ['exclamation', 'capital_word_percent', 'capital_letter_percent']\n",
    "    \n",
    "    for i,j in vectorizer.items():\n",
    "        for k,l in model.items():            \n",
    "        \n",
    "            pipe_vm = Pipeline([('vect', j), ('model', l)])\n",
    "            \n",
    "            print('\\nUsing vector {} and model {}'.format(i,k))\n",
    "            \n",
    "            pipe_vm.fit(X_train, y_train)\n",
    "            \n",
    "            print('\\nTrain')\n",
    "            predict_train = pipe_vm.predict(X_train)\n",
    "            predictProba_train = pipe_vm.predict_proba(X_train)\n",
    "            print('Train Accuracy using vector {} and model {} : {}'.format(i,k,pipe_vm.score(X_train, y_train)))\n",
    "            print('Classification Report')\n",
    "            print(classification_report(y_train, predict_train))\n",
    "            print('Log loss: {}'.format(log_loss(y_train, predictProba_train)))\n",
    "            con = pd.DataFrame(data=confusion_matrix(y_train,predict_train), columns = ['P No', 'P Yes'], index = ['A No', 'A Yes'])\n",
    "            print('Confusion Matrix')\n",
    "            print(con)\n",
    "            scores = cross_val_score(estimator=pipe_vm,\n",
    "                        X=X_train,\n",
    "                        y=y_train,\n",
    "                        cv=10,\n",
    "                        n_jobs=-1,\n",
    "                        scoring='roc_auc')\n",
    "            print('Cross validation scores: {}'.format(scores))\n",
    "            plt.title('Cross validation scores')\n",
    "            plt.scatter(np.arange(len(scores)), scores)\n",
    "            plt.axhline(y=np.mean(scores), color='g') # Mean value of cross validation scores\n",
    "            plt.show()\n",
    "            \n",
    "            print('\\nTest')\n",
    "            predict_test = pipe_vm.predict(X_test)\n",
    "            predictProba_test = pipe_vm.predict_proba(X_test)\n",
    "            print('Test Accuracy using vector {} and model {} : {}'.format(i,k,pipe_vm.score(X_test, y_test)))\n",
    "            print('Classification Report')\n",
    "            print(classification_report(y_test, predict_test))\n",
    "            print('Log loss: {}'.format(log_loss(y_test, predictProba_test)))\n",
    "            con = pd.DataFrame(data=confusion_matrix(y_test, predict_test), columns = ['P No', 'P Yes'], index = ['A No', 'A Yes'])\n",
    "            print('Confusion Matrix')\n",
    "            print(con)\n",
    "            scores = cross_val_score(estimator=pipe_vm,\n",
    "                        X=X_test,\n",
    "                        y=y_test,\n",
    "                        cv=10,\n",
    "                        n_jobs=-1,\n",
    "                        scoring='roc_auc')\n",
    "            print('Cross validation scores: {}'.format(scores))\n",
    "            plt.title('Cross validation scores')\n",
    "            plt.scatter(np.arange(len(scores)), scores)\n",
    "            plt.axhline(y=np.mean(scores), color='g') # Mean value of cross validation scores\n",
    "            plt.show()\n",
    "            print('###########################################################')"
   ]
  },
  {
   "cell_type": "code",
   "execution_count": 13,
   "metadata": {
    "ExecuteTime": {
     "end_time": "2020-04-13T10:15:09.302935Z",
     "start_time": "2020-04-13T10:10:15.335856Z"
    }
   },
   "outputs": [
    {
     "name": "stdout",
     "output_type": "stream",
     "text": [
      "\n",
      "Using vector tfidf_vector and model Naive-Bayes\n",
      "\n",
      "Train\n",
      "Train Accuracy using vector tfidf_vector and model Naive-Bayes : 0.9230252732790803\n",
      "Classification Report\n",
      "              precision    recall  f1-score   support\n",
      "\n",
      "           0       0.92      1.00      0.96    100357\n",
      "           1       0.99      0.24      0.39     11342\n",
      "\n",
      "    accuracy                           0.92    111699\n",
      "   macro avg       0.96      0.62      0.68    111699\n",
      "weighted avg       0.93      0.92      0.90    111699\n",
      "\n",
      "Log loss: 0.2648157909406879\n",
      "Confusion Matrix\n",
      "         P No  P Yes\n",
      "A No   100338     19\n",
      "A Yes    8579   2763\n",
      "Cross validation scores: [0.87772832 0.87631897 0.87952415 0.88223454 0.8772508  0.88496615\n",
      " 0.88281872 0.88626955 0.86859174 0.87584038]\n"
     ]
    },
    {
     "data": {
      "image/png": "[encoded data removed]",
      "text/plain": [
       "<Figure size 432x288 with 1 Axes>"
      ]
     },
     "metadata": {
      "needs_background": "light"
     },
     "output_type": "display_data"
    },
    {
     "name": "stdout",
     "output_type": "stream",
     "text": [
      "\n",
      "Test\n",
      "Test Accuracy using vector tfidf_vector and model Naive-Bayes : 0.9193683155080213\n",
      "Classification Report\n",
      "              precision    recall  f1-score   support\n",
      "\n",
      "           0       0.92      1.00      0.96     42989\n",
      "           1       1.00      0.21      0.35      4883\n",
      "\n",
      "    accuracy                           0.92     47872\n",
      "   macro avg       0.96      0.60      0.65     47872\n",
      "weighted avg       0.93      0.92      0.89     47872\n",
      "\n",
      "Log loss: 0.30137277841892596\n",
      "Confusion Matrix\n",
      "        P No  P Yes\n",
      "A No   42987      2\n",
      "A Yes   3858   1025\n",
      "Cross validation scores: [0.88584352 0.86943509 0.87845034 0.87564254 0.84197764 0.8600008\n",
      " 0.88021971 0.86208716 0.86732046 0.87604973]\n"
     ]
    },
    {
     "data": {
      "image/png": "[encoded data removed]",
      "text/plain": [
       "<Figure size 432x288 with 1 Axes>"
      ]
     },
     "metadata": {
      "needs_background": "light"
     },
     "output_type": "display_data"
    },
    {
     "name": "stdout",
     "output_type": "stream",
     "text": [
      "###########################################################\n",
      "\n",
      "Using vector tfidf_vector and model Logit\n",
      "\n",
      "Train\n",
      "Train Accuracy using vector tfidf_vector and model Logit : 0.9596952524194488\n",
      "Classification Report\n",
      "              precision    recall  f1-score   support\n",
      "\n",
      "           0       0.96      1.00      0.98    100357\n",
      "           1       0.96      0.63      0.76     11342\n",
      "\n",
      "    accuracy                           0.96    111699\n",
      "   macro avg       0.96      0.81      0.87    111699\n",
      "weighted avg       0.96      0.96      0.96    111699\n",
      "\n",
      "Log loss: 0.10735412935207665\n",
      "Confusion Matrix\n",
      "         P No  P Yes\n",
      "A No   100034    323\n",
      "A Yes    4179   7163\n",
      "Cross validation scores: [0.96528208 0.96763486 0.96401205 0.97009145 0.97040636 0.97289168\n",
      " 0.96858703 0.96933565 0.96879108 0.96980524]\n"
     ]
    },
    {
     "data": {
      "image/png": "[encoded data removed]",
      "text/plain": [
       "<Figure size 432x288 with 1 Axes>"
      ]
     },
     "metadata": {
      "needs_background": "light"
     },
     "output_type": "display_data"
    },
    {
     "name": "stdout",
     "output_type": "stream",
     "text": [
      "\n",
      "Test\n",
      "Test Accuracy using vector tfidf_vector and model Logit : 0.9564045788770054\n",
      "Classification Report\n",
      "              precision    recall  f1-score   support\n",
      "\n",
      "           0       0.96      1.00      0.98     42989\n",
      "           1       0.94      0.61      0.74      4883\n",
      "\n",
      "    accuracy                           0.96     47872\n",
      "   macro avg       0.95      0.80      0.86     47872\n",
      "weighted avg       0.96      0.96      0.95     47872\n",
      "\n",
      "Log loss: 0.12212684886634283\n",
      "Confusion Matrix\n",
      "        P No  P Yes\n",
      "A No   42784    205\n",
      "A Yes   1882   3001\n",
      "Cross validation scores: [0.9682168  0.95956543 0.96380759 0.96535889 0.95611732 0.96719834\n",
      " 0.97086651 0.95445996 0.96659965 0.96285712]\n"
     ]
    },
    {
     "data": {
      "image/png": "[encoded data removed]",
      "text/plain": [
       "<Figure size 432x288 with 1 Axes>"
      ]
     },
     "metadata": {
      "needs_background": "light"
     },
     "output_type": "display_data"
    },
    {
     "name": "stdout",
     "output_type": "stream",
     "text": [
      "###########################################################\n",
      "\n",
      "Using vector count_vector and model Naive-Bayes\n",
      "\n",
      "Train\n",
      "Train Accuracy using vector count_vector and model Naive-Bayes : 0.9534910787025846\n",
      "Classification Report\n",
      "              precision    recall  f1-score   support\n",
      "\n",
      "           0       0.97      0.98      0.97    100357\n",
      "           1       0.81      0.70      0.75     11342\n",
      "\n",
      "    accuracy                           0.95    111699\n",
      "   macro avg       0.89      0.84      0.86    111699\n",
      "weighted avg       0.95      0.95      0.95    111699\n",
      "\n",
      "Log loss: 0.2969608358810793\n",
      "Confusion Matrix\n",
      "        P No  P Yes\n",
      "A No   98511   1846\n",
      "A Yes   3349   7993\n",
      "Cross validation scores: [0.88988868 0.89433428 0.89589897 0.90413084 0.89686621 0.90350765\n",
      " 0.90317999 0.90221147 0.88670069 0.89479169]\n"
     ]
    },
    {
     "data": {
      "image/png": "[encoded data removed]",
      "text/plain": [
       "<Figure size 432x288 with 1 Axes>"
      ]
     },
     "metadata": {
      "needs_background": "light"
     },
     "output_type": "display_data"
    },
    {
     "name": "stdout",
     "output_type": "stream",
     "text": [
      "\n",
      "Test\n",
      "Test Accuracy using vector count_vector and model Naive-Bayes : 0.9481534090909091\n",
      "Classification Report\n",
      "              precision    recall  f1-score   support\n",
      "\n",
      "           0       0.96      0.99      0.97     42989\n",
      "           1       0.83      0.62      0.71      4883\n",
      "\n",
      "    accuracy                           0.95     47872\n",
      "   macro avg       0.89      0.80      0.84     47872\n",
      "weighted avg       0.94      0.95      0.94     47872\n",
      "\n",
      "Log loss: 0.39784657166148507\n",
      "Confusion Matrix\n",
      "        P No  P Yes\n",
      "A No   42374    615\n",
      "A Yes   1867   3016\n",
      "Cross validation scores: [0.89839816 0.88050153 0.88725099 0.88922152 0.8547737  0.86691148\n",
      " 0.90357675 0.86994712 0.8790874  0.89065157]\n"
     ]
    },
    {
     "data": {
      "image/png": "[encoded data removed]",
      "text/plain": [
       "<Figure size 432x288 with 1 Axes>"
      ]
     },
     "metadata": {
      "needs_background": "light"
     },
     "output_type": "display_data"
    },
    {
     "name": "stdout",
     "output_type": "stream",
     "text": [
      "###########################################################\n",
      "\n",
      "Using vector count_vector and model Logit\n"
     ]
    },
    {
     "name": "stderr",
     "output_type": "stream",
     "text": [
      "C:\\Users\\Rahmanfp\\Anaconda3\\lib\\site-packages\\sklearn\\linear_model\\_logistic.py:940: ConvergenceWarning: lbfgs failed to converge (status=1):\n",
      "STOP: TOTAL NO. of ITERATIONS REACHED LIMIT.\n",
      "\n",
      "Increase the number of iterations (max_iter) or scale the data as shown in:\n",
      "    https://scikit-learn.org/stable/modules/preprocessing.html\n",
      "Please also refer to the documentation for alternative solver options:\n",
      "    https://scikit-learn.org/stable/modules/linear_model.html#logistic-regression\n",
      "  extra_warning_msg=_LOGISTIC_SOLVER_CONVERGENCE_MSG)\n"
     ]
    },
    {
     "name": "stdout",
     "output_type": "stream",
     "text": [
      "\n",
      "Train\n",
      "Train Accuracy using vector count_vector and model Logit : 0.9779317630417461\n",
      "Classification Report\n",
      "              precision    recall  f1-score   support\n",
      "\n",
      "           0       0.98      1.00      0.99    100357\n",
      "           1       0.97      0.81      0.88     11342\n",
      "\n",
      "    accuracy                           0.98    111699\n",
      "   macro avg       0.97      0.90      0.93    111699\n",
      "weighted avg       0.98      0.98      0.98    111699\n",
      "\n",
      "Log loss: 0.06363040618534778\n",
      "Confusion Matrix\n",
      "         P No  P Yes\n",
      "A No   100038    319\n",
      "A Yes    2146   9196\n",
      "Cross validation scores: [0.94952839 0.94782645 0.94371985 0.95184329 0.95089073 0.95825034\n",
      " 0.95511208 0.95625149 0.950052   0.9502504 ]\n"
     ]
    },
    {
     "data": {
      "image/png": "[encoded data removed]",
      "text/plain": [
       "<Figure size 432x288 with 1 Axes>"
      ]
     },
     "metadata": {
      "needs_background": "light"
     },
     "output_type": "display_data"
    },
    {
     "name": "stdout",
     "output_type": "stream",
     "text": [
      "\n",
      "Test\n",
      "Test Accuracy using vector count_vector and model Logit : 0.9564045788770054\n",
      "Classification Report\n",
      "              precision    recall  f1-score   support\n",
      "\n",
      "           0       0.97      0.99      0.98     42989\n",
      "           1       0.86      0.69      0.76      4883\n",
      "\n",
      "    accuracy                           0.96     47872\n",
      "   macro avg       0.91      0.84      0.87     47872\n",
      "weighted avg       0.95      0.96      0.95     47872\n",
      "\n",
      "Log loss: 0.15660733558392897\n",
      "Confusion Matrix\n",
      "        P No  P Yes\n",
      "A No   42427    562\n",
      "A Yes   1525   3358\n",
      "Cross validation scores: [0.95930713 0.93510594 0.94362466 0.94710217 0.93848264 0.95278973\n",
      " 0.9540455  0.93466885 0.95102368 0.94743881]\n"
     ]
    },
    {
     "data": {
      "image/png": "[encoded data removed]",
      "text/plain": [
       "<Figure size 432x288 with 1 Axes>"
      ]
     },
     "metadata": {
      "needs_background": "light"
     },
     "output_type": "display_data"
    },
    {
     "name": "stdout",
     "output_type": "stream",
     "text": [
      "###########################################################\n"
     ]
    }
   ],
   "source": [
    "vector_model(hate_train['clean_text'], hate_test['clean_text'], label_train, label_test)"
   ]
  },
  {
   "cell_type": "code",
   "execution_count": 14,
   "metadata": {
    "ExecuteTime": {
     "end_time": "2020-04-13T10:15:09.330918Z",
     "start_time": "2020-04-13T10:15:09.304933Z"
    }
   },
   "outputs": [],
   "source": [
    "# Create a function to test which pair of vector and model that has the best evaluation score\n",
    "def vector_model(X_train, X_test, y_train, y_test):\n",
    "    \n",
    "    vectorizer = {'tfidf_vector': TfidfVectorizer(), 'count_vector': CountVectorizer()}\n",
    "    model = {'Naive-Bayes': MultinomialNB(), 'Logit': LogisticRegression()}\n",
    "    \n",
    "    add_info = ['exclamation', 'capital_word_percent', 'capital_letter_percent']\n",
    "    \n",
    "    for i,j in vectorizer.items():\n",
    "        for k,l in model.items():            \n",
    "            \n",
    "            preprocess = ColumnTransformer(\n",
    "                [('exclam', OneHotEncoder(dtype='int', handle_unknown='ignore'), ['exclamation']),\n",
    "                ('cwp', OneHotEncoder(dtype='int', handle_unknown='ignore'), ['capital_word_percent']),\n",
    "                ('clp', OneHotEncoder(dtype='int', handle_unknown='ignore'), ['capital_letter_percent']),\n",
    "                ('countvec', j, 'clean_text')],\n",
    "                remainder='drop', n_jobs=-1)\n",
    "        \n",
    "            pipe_vm = Pipeline([('preprocess', preprocess), ('model', l)])\n",
    "            \n",
    "            print('\\nUsing vector {} and model {}'.format(i,k))\n",
    "            \n",
    "            pipe_vm.fit(X_train, y_train)\n",
    "            \n",
    "            print('\\nTrain')\n",
    "            predict_train = pipe_vm.predict(X_train)\n",
    "            predictProba_train = pipe_vm.predict_proba(X_train)\n",
    "            print('Train Accuracy using vector {} and model {} : {}'.format(i,k,pipe_vm.score(X_train, y_train)))\n",
    "            print('Classification Report')\n",
    "            print(classification_report(y_train, predict_train))\n",
    "            print('Log loss: {}'.format(log_loss(y_train, predictProba_train)))\n",
    "            con = pd.DataFrame(data=confusion_matrix(y_train,predict_train), columns = ['P No', 'P Yes'], index = ['A No', 'A Yes'])\n",
    "            print('Confusion Matrix')\n",
    "            print(con)\n",
    "            scores = cross_val_score(estimator=pipe_vm,\n",
    "                        X=X_train,\n",
    "                        y=y_train,\n",
    "                        cv=10,\n",
    "                        n_jobs=-1,\n",
    "                        scoring='roc_auc')\n",
    "            print('Cross validation scores: {}'.format(scores))\n",
    "            plt.title('Cross validation scores')\n",
    "            plt.scatter(np.arange(len(scores)), scores)\n",
    "            plt.axhline(y=np.mean(scores), color='g') # Mean value of cross validation scores\n",
    "            plt.show()\n",
    "            \n",
    "            print('\\nTest')\n",
    "            predict_test = pipe_vm.predict(X_test)\n",
    "            predictProba_test = pipe_vm.predict_proba(X_test)\n",
    "            print('Test Accuracy using vector {} and model {} : {}'.format(i,k,pipe_vm.score(X_test, y_test)))\n",
    "            print('Classification Report')\n",
    "            print(classification_report(y_test, predict_test))\n",
    "            print('Log loss: {}'.format(log_loss(y_test, predictProba_test)))\n",
    "            con = pd.DataFrame(data=confusion_matrix(y_test, predict_test), columns = ['P No', 'P Yes'], index = ['A No', 'A Yes'])\n",
    "            print('Confusion Matrix')\n",
    "            print(con)\n",
    "            scores = cross_val_score(estimator=pipe_vm,\n",
    "                        X=X_test,\n",
    "                        y=y_test,\n",
    "                        cv=10,\n",
    "                        n_jobs=-1,\n",
    "                        scoring='roc_auc')\n",
    "            print('Cross validation scores: {}'.format(scores))\n",
    "            plt.title('Cross validation scores')\n",
    "            plt.scatter(np.arange(len(scores)), scores)\n",
    "            plt.axhline(y=np.mean(scores), color='g') # Mean value of cross validation scores\n",
    "            plt.show()\n",
    "            print('###########################################################')"
   ]
  },
  {
   "cell_type": "code",
   "execution_count": 15,
   "metadata": {
    "ExecuteTime": {
     "end_time": "2020-04-13T10:22:15.231550Z",
     "start_time": "2020-04-13T10:15:09.332916Z"
    }
   },
   "outputs": [
    {
     "name": "stdout",
     "output_type": "stream",
     "text": [
      "\n",
      "Using vector tfidf_vector and model Naive-Bayes\n",
      "\n",
      "Train\n",
      "Train Accuracy using vector tfidf_vector and model Naive-Bayes : 0.9208766416888244\n",
      "Classification Report\n",
      "              precision    recall  f1-score   support\n",
      "\n",
      "           0       0.92      1.00      0.96    100357\n",
      "           1       0.94      0.24      0.38     11342\n",
      "\n",
      "    accuracy                           0.92    111699\n",
      "   macro avg       0.93      0.62      0.67    111699\n",
      "weighted avg       0.92      0.92      0.90    111699\n",
      "\n",
      "Log loss: 0.31480470173576436\n",
      "Confusion Matrix\n",
      "         P No  P Yes\n",
      "A No   100182    175\n",
      "A Yes    8663   2679\n",
      "Cross validation scores: [0.89073577 0.88641631 0.88983056 0.89856016 0.89557145 0.89598627\n",
      " 0.89517947 0.89459403 0.88441995 0.89297898]\n"
     ]
    },
    {
     "data": {
      "image/png": "[encoded data removed]",
      "text/plain": [
       "<Figure size 432x288 with 1 Axes>"
      ]
     },
     "metadata": {
      "needs_background": "light"
     },
     "output_type": "display_data"
    },
    {
     "name": "stdout",
     "output_type": "stream",
     "text": [
      "\n",
      "Test\n",
      "Test Accuracy using vector tfidf_vector and model Naive-Bayes : 0.9137491644385026\n",
      "Classification Report\n",
      "              precision    recall  f1-score   support\n",
      "\n",
      "           0       0.91      1.00      0.95     42989\n",
      "           1       0.91      0.17      0.29      4883\n",
      "\n",
      "    accuracy                           0.91     47872\n",
      "   macro avg       0.91      0.58      0.62     47872\n",
      "weighted avg       0.91      0.91      0.89     47872\n",
      "\n",
      "Log loss: 0.402037050889791\n",
      "Confusion Matrix\n",
      "        P No  P Yes\n",
      "A No   42911     78\n",
      "A Yes   4051    832\n",
      "Cross validation scores: [0.89635341 0.88663079 0.89922599 0.89171567 0.87046883 0.87829137\n",
      " 0.8899737  0.88585246 0.88114611 0.89145092]\n"
     ]
    },
    {
     "data": {
      "image/png": "[encoded data removed]",
      "text/plain": [
       "<Figure size 432x288 with 1 Axes>"
      ]
     },
     "metadata": {
      "needs_background": "light"
     },
     "output_type": "display_data"
    },
    {
     "name": "stdout",
     "output_type": "stream",
     "text": [
      "###########################################################\n",
      "\n",
      "Using vector tfidf_vector and model Logit\n"
     ]
    },
    {
     "name": "stderr",
     "output_type": "stream",
     "text": [
      "C:\\Users\\Rahmanfp\\Anaconda3\\lib\\site-packages\\sklearn\\linear_model\\_logistic.py:940: ConvergenceWarning: lbfgs failed to converge (status=1):\n",
      "STOP: TOTAL NO. of ITERATIONS REACHED LIMIT.\n",
      "\n",
      "Increase the number of iterations (max_iter) or scale the data as shown in:\n",
      "    https://scikit-learn.org/stable/modules/preprocessing.html\n",
      "Please also refer to the documentation for alternative solver options:\n",
      "    https://scikit-learn.org/stable/modules/linear_model.html#logistic-regression\n",
      "  extra_warning_msg=_LOGISTIC_SOLVER_CONVERGENCE_MSG)\n"
     ]
    },
    {
     "name": "stdout",
     "output_type": "stream",
     "text": [
      "\n",
      "Train\n",
      "Train Accuracy using vector tfidf_vector and model Logit : 0.9670005998263189\n",
      "Classification Report\n",
      "              precision    recall  f1-score   support\n",
      "\n",
      "           0       0.97      1.00      0.98    100357\n",
      "           1       0.97      0.69      0.81     11342\n",
      "\n",
      "    accuracy                           0.97    111699\n",
      "   macro avg       0.97      0.85      0.90    111699\n",
      "weighted avg       0.97      0.97      0.96    111699\n",
      "\n",
      "Log loss: 0.09091337524245624\n",
      "Confusion Matrix\n",
      "         P No  P Yes\n",
      "A No   100138    219\n",
      "A Yes    3467   7875\n",
      "Cross validation scores: [0.96466548 0.96365711 0.96016519 0.96901121 0.97148221 0.97042455\n",
      " 0.96654241 0.96671307 0.96707647 0.96873491]\n"
     ]
    },
    {
     "data": {
      "image/png": "[encoded data removed]",
      "text/plain": [
       "<Figure size 432x288 with 1 Axes>"
      ]
     },
     "metadata": {
      "needs_background": "light"
     },
     "output_type": "display_data"
    },
    {
     "name": "stdout",
     "output_type": "stream",
     "text": [
      "\n",
      "Test\n",
      "Test Accuracy using vector tfidf_vector and model Logit : 0.9555063502673797\n",
      "Classification Report\n",
      "              precision    recall  f1-score   support\n",
      "\n",
      "           0       0.96      0.99      0.98     42989\n",
      "           1       0.93      0.61      0.74      4883\n",
      "\n",
      "    accuracy                           0.96     47872\n",
      "   macro avg       0.94      0.80      0.86     47872\n",
      "weighted avg       0.95      0.96      0.95     47872\n",
      "\n",
      "Log loss: 0.12245099310621134\n",
      "Confusion Matrix\n",
      "        P No  P Yes\n",
      "A No   42762    227\n",
      "A Yes   1903   2980\n",
      "Cross validation scores: [0.9610805  0.95412021 0.95882334 0.96026954 0.9537135  0.95757353\n",
      " 0.96278037 0.95148819 0.96009604 0.95883138]\n"
     ]
    },
    {
     "data": {
      "image/png": "[encoded data removed]",
      "text/plain": [
       "<Figure size 432x288 with 1 Axes>"
      ]
     },
     "metadata": {
      "needs_background": "light"
     },
     "output_type": "display_data"
    },
    {
     "name": "stdout",
     "output_type": "stream",
     "text": [
      "###########################################################\n",
      "\n",
      "Using vector count_vector and model Naive-Bayes\n",
      "\n",
      "Train\n",
      "Train Accuracy using vector count_vector and model Naive-Bayes : 0.9521839944851789\n",
      "Classification Report\n",
      "              precision    recall  f1-score   support\n",
      "\n",
      "           0       0.97      0.98      0.97    100357\n",
      "           1       0.80      0.71      0.75     11342\n",
      "\n",
      "    accuracy                           0.95    111699\n",
      "   macro avg       0.88      0.84      0.86    111699\n",
      "weighted avg       0.95      0.95      0.95    111699\n",
      "\n",
      "Log loss: 0.30978980430872544\n",
      "Confusion Matrix\n",
      "        P No  P Yes\n",
      "A No   98358   1999\n",
      "A Yes   3342   8000\n",
      "Cross validation scores: [0.88392071 0.88745182 0.88958049 0.89911029 0.89194218 0.8967338\n",
      " 0.89847124 0.89614539 0.88119279 0.88762589]\n"
     ]
    },
    {
     "data": {
      "image/png": "[encoded data removed]",
      "text/plain": [
       "<Figure size 432x288 with 1 Axes>"
      ]
     },
     "metadata": {
      "needs_background": "light"
     },
     "output_type": "display_data"
    },
    {
     "name": "stdout",
     "output_type": "stream",
     "text": [
      "\n",
      "Test\n",
      "Test Accuracy using vector count_vector and model Naive-Bayes : 0.9453542780748663\n",
      "Classification Report\n",
      "              precision    recall  f1-score   support\n",
      "\n",
      "           0       0.96      0.98      0.97     42989\n",
      "           1       0.81      0.60      0.69      4883\n",
      "\n",
      "    accuracy                           0.95     47872\n",
      "   macro avg       0.88      0.79      0.83     47872\n",
      "weighted avg       0.94      0.95      0.94     47872\n",
      "\n",
      "Log loss: 0.43915369841941737\n",
      "Confusion Matrix\n",
      "        P No  P Yes\n",
      "A No   42305    684\n",
      "A Yes   1932   2951\n",
      "Cross validation scores: [0.89184054 0.87633877 0.88423156 0.8846055  0.84988551 0.86050654\n",
      " 0.89718372 0.86482369 0.87461581 0.8866282 ]\n"
     ]
    },
    {
     "data": {
      "image/png": "[encoded data removed]",
      "text/plain": [
       "<Figure size 432x288 with 1 Axes>"
      ]
     },
     "metadata": {
      "needs_background": "light"
     },
     "output_type": "display_data"
    },
    {
     "name": "stdout",
     "output_type": "stream",
     "text": [
      "###########################################################\n",
      "\n",
      "Using vector count_vector and model Logit\n"
     ]
    },
    {
     "name": "stderr",
     "output_type": "stream",
     "text": [
      "C:\\Users\\Rahmanfp\\Anaconda3\\lib\\site-packages\\sklearn\\linear_model\\_logistic.py:940: ConvergenceWarning: lbfgs failed to converge (status=1):\n",
      "STOP: TOTAL NO. of ITERATIONS REACHED LIMIT.\n",
      "\n",
      "Increase the number of iterations (max_iter) or scale the data as shown in:\n",
      "    https://scikit-learn.org/stable/modules/preprocessing.html\n",
      "Please also refer to the documentation for alternative solver options:\n",
      "    https://scikit-learn.org/stable/modules/linear_model.html#logistic-regression\n",
      "  extra_warning_msg=_LOGISTIC_SOLVER_CONVERGENCE_MSG)\n"
     ]
    },
    {
     "name": "stdout",
     "output_type": "stream",
     "text": [
      "\n",
      "Train\n",
      "Train Accuracy using vector count_vector and model Logit : 0.9803758314756623\n",
      "Classification Report\n",
      "              precision    recall  f1-score   support\n",
      "\n",
      "           0       0.98      1.00      0.99    100357\n",
      "           1       0.97      0.83      0.90     11342\n",
      "\n",
      "    accuracy                           0.98    111699\n",
      "   macro avg       0.98      0.91      0.94    111699\n",
      "weighted avg       0.98      0.98      0.98    111699\n",
      "\n",
      "Log loss: 0.05774315077725666\n",
      "Confusion Matrix\n",
      "         P No  P Yes\n",
      "A No   100064    293\n",
      "A Yes    1899   9443\n",
      "Cross validation scores: [0.95253252 0.94942598 0.94449708 0.95301693 0.95466963 0.95786869\n",
      " 0.95652933 0.95731407 0.9498304  0.95267955]\n"
     ]
    },
    {
     "data": {
      "image/png": "[encoded data removed]",
      "text/plain": [
       "<Figure size 432x288 with 1 Axes>"
      ]
     },
     "metadata": {
      "needs_background": "light"
     },
     "output_type": "display_data"
    },
    {
     "name": "stdout",
     "output_type": "stream",
     "text": [
      "\n",
      "Test\n",
      "Test Accuracy using vector count_vector and model Logit : 0.9565925802139037\n",
      "Classification Report\n",
      "              precision    recall  f1-score   support\n",
      "\n",
      "           0       0.97      0.99      0.98     42989\n",
      "           1       0.85      0.69      0.77      4883\n",
      "\n",
      "    accuracy                           0.96     47872\n",
      "   macro avg       0.91      0.84      0.87     47872\n",
      "weighted avg       0.95      0.96      0.95     47872\n",
      "\n",
      "Log loss: 0.15615197407577666\n",
      "Confusion Matrix\n",
      "        P No  P Yes\n",
      "A No   42411    578\n",
      "A Yes   1500   3383\n",
      "Cross validation scores: [0.9585094  0.93535283 0.94564548 0.94830765 0.9413984  0.95304283\n",
      " 0.9542743  0.93725309 0.95226301 0.94681361]\n"
     ]
    },
    {
     "data": {
      "image/png": "[encoded data removed]",
      "text/plain": [
       "<Figure size 432x288 with 1 Axes>"
      ]
     },
     "metadata": {
      "needs_background": "light"
     },
     "output_type": "display_data"
    },
    {
     "name": "stdout",
     "output_type": "stream",
     "text": [
      "###########################################################\n"
     ]
    }
   ],
   "source": [
    "vector_model(hate_train, hate_test, label_train, label_test)"
   ]
  },
  {
   "cell_type": "markdown",
   "metadata": {},
   "source": [
    "- Best Vectorizer = CountVectorizer\n",
    "- Best Model = Logistic Regression"
   ]
  },
  {
   "cell_type": "code",
   "execution_count": 16,
   "metadata": {
    "ExecuteTime": {
     "end_time": "2020-04-13T10:22:15.250535Z",
     "start_time": "2020-04-13T10:22:15.233534Z"
    }
   },
   "outputs": [],
   "source": [
    "# Create a function to find best parameter based on a random cross validation\n",
    "def random_vect(parameters_model, X_train, X_test, y_train, y_test, parameters_text):\n",
    "    \n",
    "    add_info = ['exclamation', 'capital_word_percent', 'capital_letter_percent']\n",
    "    \n",
    "    preprocess = ColumnTransformer(\n",
    "                [('exclam', OneHotEncoder(dtype='int', handle_unknown='ignore'), ['exclamation']),\n",
    "                ('cwp', OneHotEncoder(dtype='int', handle_unknown='ignore'), ['capital_word_percent']),\n",
    "                ('clp', OneHotEncoder(dtype='int', handle_unknown='ignore'), ['capital_letter_percent']),\n",
    "                ('vect', CountVectorizer(), 'clean_text')],\n",
    "                remainder='drop', n_jobs=-1)\n",
    "        \n",
    "    pipe_vm = Pipeline([('preprocess', preprocess), ('model', LogisticRegression(n_jobs=-1))])\n",
    "    \n",
    "    # Join the parameters dictionaries together\n",
    "    parameters = dict()\n",
    "    parameters.update(parameters_text)\n",
    "    parameters.update(parameters_model)\n",
    "    \n",
    "    random_search = RandomizedSearchCV(pipe_vm, parameters, n_jobs=-1, verbose=1, cv=5, n_iter=10)\n",
    "    \n",
    "    print(\"Performing random search...\")\n",
    "    print(\"pipeline:\", [name for name, _ in pipe_vm.steps])\n",
    "    print(\"parameters:\")\n",
    "    pprint(parameters)\n",
    "    random_search.fit(X_train, y_train)\n",
    "    print(\"Best CV score: %0.3f\" % random_search.best_score_)\n",
    "    print(\"Best parameters set:\")\n",
    "    best_parameters = random_search.best_estimator_.get_params()\n",
    "    for param_name in sorted(parameters.keys()):\n",
    "        print(\"\\t%s: %r\" % (param_name, best_parameters[param_name]))\n",
    "        \n",
    "    print(\"Test score with best_estimator_: %0.3f\" % random_search.best_estimator_.score(X_test, y_test))\n",
    "    print(\"\\n\")\n",
    "    print(\"Classification Report Test Data\")\n",
    "    print(classification_report(y_test, random_search.best_estimator_.predict(X_test)))\n",
    "    scores = cross_val_score(estimator=random_search.best_estimator_,\n",
    "                X=X_test,\n",
    "                y=y_test,\n",
    "                cv=10,\n",
    "                n_jobs=-1,\n",
    "                scoring='roc_auc')\n",
    "    print('Cross validation scores: {}'.format(scores))\n",
    "    plt.title('Cross validation scores')\n",
    "    plt.scatter(np.arange(len(scores)), scores)\n",
    "    plt.axhline(y=np.mean(scores), color='g') # Mean value of cross validation scores\n",
    "    plt.show()\n",
    "    return random_search"
   ]
  },
  {
   "cell_type": "code",
   "execution_count": 17,
   "metadata": {
    "ExecuteTime": {
     "end_time": "2020-04-13T10:22:15.263518Z",
     "start_time": "2020-04-13T10:22:15.253525Z"
    }
   },
   "outputs": [],
   "source": [
    "# Parameter grid settings for the vectorizers (Count and TFIDF)\n",
    "parameters_vect = {\n",
    "    'preprocess__vect__max_df': (0.25, 0.5, 0.75, 1.0),\n",
    "    'preprocess__vect__ngram_range': ((1,1), (1,2), (1,3), (1,4)),\n",
    "    'preprocess__vect__min_df': (10,20,50,75,100),\n",
    "    'preprocess__vect__max_features': (10000, 20000, 30000, 40000, 50000)}\n",
    "\n",
    "# Parameter grid settings for LogisticRegression\n",
    "parameters_logreg = {\n",
    "    'model__C': (0.001, 0.01, 0.1, 1.0),\n",
    "    'model__penalty': ('l1', 'l2'),\n",
    "    'model__max_iter': (100, 500, 1000)}"
   ]
  },
  {
   "cell_type": "markdown",
   "metadata": {},
   "source": [
    "##### Min_df\n",
    "Min_df ignores terms that have a document frequency (presence in % of documents) strictly lower than the given threshold. For example, Min_df=0.66 requires that a term appear in 66% of the docuemnts for it to be considered part of the vocabulary.\n",
    "\n",
    "##### Max_df\n",
    "When building the vocabulary, it ignores terms that have a document frequency strictly higher than the given threshold. This could be used to exclude terms that are too frequent and are unlikely to help predict the label. For example, by analyzing reviews on the movie Lion King, the term 'Lion' might appear in 90% of the reviews (documents), in which case, we could consider establishing Max_df=0.89\n",
    "\n",
    "##### Max_features\n",
    "Limit the amount of features (vocabulary) that the vectorizer will learn\n",
    "\n",
    "##### Regularization\n",
    "1. L1 Regularization (Lasso Regression) -> Data yang dianggap tidak penting didekatkan ke nol\n",
    "2. L2 Regularization (Ridge Regression) -> Data yang dianggap tidak penting bisa jadi nol\n",
    "\n",
    "##### C \n",
    "Inverse of regularization strength; must be a positive float. Like in support vector machines, smaller values specify stronger regularization."
   ]
  },
  {
   "cell_type": "code",
   "execution_count": 18,
   "metadata": {
    "ExecuteTime": {
     "end_time": "2020-04-13T11:49:40.619300Z",
     "start_time": "2020-04-13T10:22:15.265517Z"
    },
    "scrolled": true
   },
   "outputs": [
    {
     "name": "stdout",
     "output_type": "stream",
     "text": [
      "################################################################\n",
      "Iterasi: 1\n",
      "Performing random search...\n",
      "pipeline: ['preprocess', 'model']\n",
      "parameters:\n",
      "{'model__C': (0.001, 0.01, 0.1, 1.0),\n",
      " 'model__max_iter': (100, 500, 1000),\n",
      " 'model__penalty': ('l1', 'l2'),\n",
      " 'preprocess__vect__max_df': (0.25, 0.5, 0.75, 1.0),\n",
      " 'preprocess__vect__max_features': (10000, 20000, 30000, 40000, 50000),\n",
      " 'preprocess__vect__min_df': (10, 20, 50, 75, 100),\n",
      " 'preprocess__vect__ngram_range': ((1, 1), (1, 2), (1, 3), (1, 4))}\n",
      "Fitting 5 folds for each of 10 candidates, totalling 50 fits\n"
     ]
    },
    {
     "name": "stderr",
     "output_type": "stream",
     "text": [
      "[Parallel(n_jobs=-1)]: Using backend LokyBackend with 8 concurrent workers.\n",
      "[Parallel(n_jobs=-1)]: Done  34 tasks      | elapsed:  3.3min\n",
      "[Parallel(n_jobs=-1)]: Done  50 out of  50 | elapsed:  4.5min finished\n"
     ]
    },
    {
     "name": "stdout",
     "output_type": "stream",
     "text": [
      "Best CV score: 0.955\n",
      "Best parameters set:\n",
      "\tmodel__C: 1.0\n",
      "\tmodel__max_iter: 1000\n",
      "\tmodel__penalty: 'l2'\n",
      "\tpreprocess__vect__max_df: 0.75\n",
      "\tpreprocess__vect__max_features: 30000\n",
      "\tpreprocess__vect__min_df: 20\n",
      "\tpreprocess__vect__ngram_range: (1, 4)\n",
      "Test score with best_estimator_: 0.956\n",
      "\n",
      "\n",
      "Classification Report Test Data\n",
      "              precision    recall  f1-score   support\n",
      "\n",
      "           0       0.97      0.99      0.98     42989\n",
      "           1       0.86      0.69      0.76      4883\n",
      "\n",
      "    accuracy                           0.96     47872\n",
      "   macro avg       0.91      0.84      0.87     47872\n",
      "weighted avg       0.95      0.96      0.95     47872\n",
      "\n",
      "Cross validation scores: [0.95179123 0.93133277 0.94052229 0.94215582 0.938741   0.94453247\n",
      " 0.94670868 0.93354583 0.94346474 0.93807625]\n"
     ]
    },
    {
     "data": {
      "image/png": "[encoded data removed]",
      "text/plain": [
       "<Figure size 432x288 with 1 Axes>"
      ]
     },
     "metadata": {
      "needs_background": "light"
     },
     "output_type": "display_data"
    },
    {
     "name": "stdout",
     "output_type": "stream",
     "text": [
      "################################################################\n",
      "Iterasi: 2\n",
      "Performing random search...\n",
      "pipeline: ['preprocess', 'model']\n",
      "parameters:\n",
      "{'model__C': (0.001, 0.01, 0.1, 1.0),\n",
      " 'model__max_iter': (100, 500, 1000),\n",
      " 'model__penalty': ('l1', 'l2'),\n",
      " 'preprocess__vect__max_df': (0.25, 0.5, 0.75, 1.0),\n",
      " 'preprocess__vect__max_features': (10000, 20000, 30000, 40000, 50000),\n",
      " 'preprocess__vect__min_df': (10, 20, 50, 75, 100),\n",
      " 'preprocess__vect__ngram_range': ((1, 1), (1, 2), (1, 3), (1, 4))}\n",
      "Fitting 5 folds for each of 10 candidates, totalling 50 fits\n"
     ]
    },
    {
     "name": "stderr",
     "output_type": "stream",
     "text": [
      "[Parallel(n_jobs=-1)]: Using backend LokyBackend with 8 concurrent workers.\n",
      "[Parallel(n_jobs=-1)]: Done  34 tasks      | elapsed:  3.4min\n",
      "[Parallel(n_jobs=-1)]: Done  50 out of  50 | elapsed:  4.5min finished\n"
     ]
    },
    {
     "name": "stdout",
     "output_type": "stream",
     "text": [
      "Best CV score: 0.956\n",
      "Best parameters set:\n",
      "\tmodel__C: 1.0\n",
      "\tmodel__max_iter: 1000\n",
      "\tmodel__penalty: 'l2'\n",
      "\tpreprocess__vect__max_df: 0.25\n",
      "\tpreprocess__vect__max_features: 40000\n",
      "\tpreprocess__vect__min_df: 10\n",
      "\tpreprocess__vect__ngram_range: (1, 1)\n",
      "Test score with best_estimator_: 0.956\n",
      "\n",
      "\n",
      "Classification Report Test Data\n",
      "              precision    recall  f1-score   support\n",
      "\n",
      "           0       0.97      0.99      0.98     42989\n",
      "           1       0.85      0.69      0.76      4883\n",
      "\n",
      "    accuracy                           0.96     47872\n",
      "   macro avg       0.91      0.84      0.87     47872\n",
      "weighted avg       0.95      0.96      0.95     47872\n",
      "\n",
      "Cross validation scores: [0.95648296 0.93394574 0.94285842 0.94336607 0.93965381 0.94913705\n",
      " 0.94950146 0.93701905 0.94936871 0.94360934]\n"
     ]
    },
    {
     "data": {
      "image/png": "[encoded data removed]",
      "text/plain": [
       "<Figure size 432x288 with 1 Axes>"
      ]
     },
     "metadata": {
      "needs_background": "light"
     },
     "output_type": "display_data"
    },
    {
     "name": "stdout",
     "output_type": "stream",
     "text": [
      "################################################################\n",
      "Iterasi: 3\n",
      "Performing random search...\n",
      "pipeline: ['preprocess', 'model']\n",
      "parameters:\n",
      "{'model__C': (0.001, 0.01, 0.1, 1.0),\n",
      " 'model__max_iter': (100, 500, 1000),\n",
      " 'model__penalty': ('l1', 'l2'),\n",
      " 'preprocess__vect__max_df': (0.25, 0.5, 0.75, 1.0),\n",
      " 'preprocess__vect__max_features': (10000, 20000, 30000, 40000, 50000),\n",
      " 'preprocess__vect__min_df': (10, 20, 50, 75, 100),\n",
      " 'preprocess__vect__ngram_range': ((1, 1), (1, 2), (1, 3), (1, 4))}\n",
      "Fitting 5 folds for each of 10 candidates, totalling 50 fits\n"
     ]
    },
    {
     "name": "stderr",
     "output_type": "stream",
     "text": [
      "[Parallel(n_jobs=-1)]: Using backend LokyBackend with 8 concurrent workers.\n",
      "[Parallel(n_jobs=-1)]: Done  34 tasks      | elapsed:  3.5min\n",
      "[Parallel(n_jobs=-1)]: Done  50 out of  50 | elapsed:  5.1min finished\n"
     ]
    },
    {
     "name": "stdout",
     "output_type": "stream",
     "text": [
      "Best CV score: 0.951\n",
      "Best parameters set:\n",
      "\tmodel__C: 1.0\n",
      "\tmodel__max_iter: 1000\n",
      "\tmodel__penalty: 'l2'\n",
      "\tpreprocess__vect__max_df: 0.75\n",
      "\tpreprocess__vect__max_features: 20000\n",
      "\tpreprocess__vect__min_df: 100\n",
      "\tpreprocess__vect__ngram_range: (1, 3)\n",
      "Test score with best_estimator_: 0.952\n",
      "\n",
      "\n",
      "Classification Report Test Data\n",
      "              precision    recall  f1-score   support\n",
      "\n",
      "           0       0.96      0.99      0.97     42989\n",
      "           1       0.84      0.65      0.74      4883\n",
      "\n",
      "    accuracy                           0.95     47872\n",
      "   macro avg       0.90      0.82      0.85     47872\n",
      "weighted avg       0.95      0.95      0.95     47872\n",
      "\n",
      "Cross validation scores: [0.92910512 0.90779945 0.92640659 0.92227343 0.90552511 0.92544969\n",
      " 0.91802874 0.92150553 0.92268169 0.9167397 ]\n"
     ]
    },
    {
     "data": {
      "image/png": "[encoded data removed]",
      "text/plain": [
       "<Figure size 432x288 with 1 Axes>"
      ]
     },
     "metadata": {
      "needs_background": "light"
     },
     "output_type": "display_data"
    },
    {
     "name": "stdout",
     "output_type": "stream",
     "text": [
      "################################################################\n",
      "Iterasi: 4\n",
      "Performing random search...\n",
      "pipeline: ['preprocess', 'model']\n",
      "parameters:\n",
      "{'model__C': (0.001, 0.01, 0.1, 1.0),\n",
      " 'model__max_iter': (100, 500, 1000),\n",
      " 'model__penalty': ('l1', 'l2'),\n",
      " 'preprocess__vect__max_df': (0.25, 0.5, 0.75, 1.0),\n",
      " 'preprocess__vect__max_features': (10000, 20000, 30000, 40000, 50000),\n",
      " 'preprocess__vect__min_df': (10, 20, 50, 75, 100),\n",
      " 'preprocess__vect__ngram_range': ((1, 1), (1, 2), (1, 3), (1, 4))}\n",
      "Fitting 5 folds for each of 10 candidates, totalling 50 fits\n"
     ]
    },
    {
     "name": "stderr",
     "output_type": "stream",
     "text": [
      "[Parallel(n_jobs=-1)]: Using backend LokyBackend with 8 concurrent workers.\n",
      "[Parallel(n_jobs=-1)]: Done  34 tasks      | elapsed:  6.0min\n",
      "[Parallel(n_jobs=-1)]: Done  50 out of  50 | elapsed:  7.7min finished\n"
     ]
    },
    {
     "name": "stdout",
     "output_type": "stream",
     "text": [
      "Best CV score: 0.953\n",
      "Best parameters set:\n",
      "\tmodel__C: 1.0\n",
      "\tmodel__max_iter: 500\n",
      "\tmodel__penalty: 'l2'\n",
      "\tpreprocess__vect__max_df: 1.0\n",
      "\tpreprocess__vect__max_features: 30000\n",
      "\tpreprocess__vect__min_df: 50\n",
      "\tpreprocess__vect__ngram_range: (1, 2)\n",
      "Test score with best_estimator_: 0.955\n",
      "\n",
      "\n",
      "Classification Report Test Data\n",
      "              precision    recall  f1-score   support\n",
      "\n",
      "           0       0.96      0.99      0.98     42989\n",
      "           1       0.85      0.68      0.75      4883\n",
      "\n",
      "    accuracy                           0.95     47872\n",
      "   macro avg       0.91      0.83      0.86     47872\n",
      "weighted avg       0.95      0.95      0.95     47872\n",
      "\n",
      "Cross validation scores: [0.93836109 0.92274491 0.93303437 0.93169613 0.92648786 0.93604284\n",
      " 0.93315473 0.92713303 0.93602878 0.93059073]\n"
     ]
    },
    {
     "data": {
      "image/png": "[encoded data removed]",
      "text/plain": [
       "<Figure size 432x288 with 1 Axes>"
      ]
     },
     "metadata": {
      "needs_background": "light"
     },
     "output_type": "display_data"
    },
    {
     "name": "stdout",
     "output_type": "stream",
     "text": [
      "################################################################\n",
      "Iterasi: 5\n",
      "Performing random search...\n",
      "pipeline: ['preprocess', 'model']\n",
      "parameters:\n",
      "{'model__C': (0.001, 0.01, 0.1, 1.0),\n",
      " 'model__max_iter': (100, 500, 1000),\n",
      " 'model__penalty': ('l1', 'l2'),\n",
      " 'preprocess__vect__max_df': (0.25, 0.5, 0.75, 1.0),\n",
      " 'preprocess__vect__max_features': (10000, 20000, 30000, 40000, 50000),\n",
      " 'preprocess__vect__min_df': (10, 20, 50, 75, 100),\n",
      " 'preprocess__vect__ngram_range': ((1, 1), (1, 2), (1, 3), (1, 4))}\n",
      "Fitting 5 folds for each of 10 candidates, totalling 50 fits\n"
     ]
    },
    {
     "name": "stderr",
     "output_type": "stream",
     "text": [
      "[Parallel(n_jobs=-1)]: Using backend LokyBackend with 8 concurrent workers.\n",
      "[Parallel(n_jobs=-1)]: Done  34 tasks      | elapsed:  5.1min\n",
      "[Parallel(n_jobs=-1)]: Done  50 out of  50 | elapsed:  6.7min finished\n"
     ]
    },
    {
     "name": "stdout",
     "output_type": "stream",
     "text": [
      "Best CV score: 0.954\n",
      "Best parameters set:\n",
      "\tmodel__C: 1.0\n",
      "\tmodel__max_iter: 100\n",
      "\tmodel__penalty: 'l2'\n",
      "\tpreprocess__vect__max_df: 1.0\n",
      "\tpreprocess__vect__max_features: 10000\n",
      "\tpreprocess__vect__min_df: 20\n",
      "\tpreprocess__vect__ngram_range: (1, 3)\n",
      "Test score with best_estimator_: 0.955\n",
      "\n",
      "\n",
      "Classification Report Test Data\n",
      "              precision    recall  f1-score   support\n",
      "\n",
      "           0       0.96      0.99      0.98     42989\n",
      "           1       0.85      0.68      0.76      4883\n",
      "\n",
      "    accuracy                           0.96     47872\n",
      "   macro avg       0.91      0.83      0.87     47872\n",
      "weighted avg       0.95      0.96      0.95     47872\n",
      "\n",
      "Cross validation scores: [0.95230926 0.93091559 0.93882727 0.94131737 0.93895883 0.94365922\n",
      " 0.94660286 0.93375509 0.94285461 0.93784882]\n"
     ]
    },
    {
     "data": {
      "image/png": "[encoded data removed]",
      "text/plain": [
       "<Figure size 432x288 with 1 Axes>"
      ]
     },
     "metadata": {
      "needs_background": "light"
     },
     "output_type": "display_data"
    },
    {
     "name": "stdout",
     "output_type": "stream",
     "text": [
      "################################################################\n",
      "Iterasi: 6\n",
      "Performing random search...\n",
      "pipeline: ['preprocess', 'model']\n",
      "parameters:\n",
      "{'model__C': (0.001, 0.01, 0.1, 1.0),\n",
      " 'model__max_iter': (100, 500, 1000),\n",
      " 'model__penalty': ('l1', 'l2'),\n",
      " 'preprocess__vect__max_df': (0.25, 0.5, 0.75, 1.0),\n",
      " 'preprocess__vect__max_features': (10000, 20000, 30000, 40000, 50000),\n",
      " 'preprocess__vect__min_df': (10, 20, 50, 75, 100),\n",
      " 'preprocess__vect__ngram_range': ((1, 1), (1, 2), (1, 3), (1, 4))}\n",
      "Fitting 5 folds for each of 10 candidates, totalling 50 fits\n"
     ]
    },
    {
     "name": "stderr",
     "output_type": "stream",
     "text": [
      "[Parallel(n_jobs=-1)]: Using backend LokyBackend with 8 concurrent workers.\n",
      "[Parallel(n_jobs=-1)]: Done  34 tasks      | elapsed:  5.5min\n",
      "[Parallel(n_jobs=-1)]: Done  50 out of  50 | elapsed:  7.5min finished\n"
     ]
    },
    {
     "name": "stdout",
     "output_type": "stream",
     "text": [
      "Best CV score: 0.953\n",
      "Best parameters set:\n",
      "\tmodel__C: 1.0\n",
      "\tmodel__max_iter: 500\n",
      "\tmodel__penalty: 'l2'\n",
      "\tpreprocess__vect__max_df: 0.25\n",
      "\tpreprocess__vect__max_features: 40000\n",
      "\tpreprocess__vect__min_df: 50\n",
      "\tpreprocess__vect__ngram_range: (1, 2)\n",
      "Test score with best_estimator_: 0.955\n",
      "\n",
      "\n",
      "Classification Report Test Data\n",
      "              precision    recall  f1-score   support\n",
      "\n",
      "           0       0.96      0.99      0.98     42989\n",
      "           1       0.85      0.68      0.75      4883\n",
      "\n",
      "    accuracy                           0.95     47872\n",
      "   macro avg       0.91      0.83      0.86     47872\n",
      "weighted avg       0.95      0.95      0.95     47872\n",
      "\n",
      "Cross validation scores: [0.9383549  0.92276061 0.93301292 0.93169065 0.92649739 0.93603092\n",
      " 0.9331502  0.92719189 0.93606453 0.93059881]\n"
     ]
    },
    {
     "data": {
      "image/png": "[encoded data removed]",
      "text/plain": [
       "<Figure size 432x288 with 1 Axes>"
      ]
     },
     "metadata": {
      "needs_background": "light"
     },
     "output_type": "display_data"
    },
    {
     "name": "stdout",
     "output_type": "stream",
     "text": [
      "################################################################\n",
      "Iterasi: 7\n",
      "Performing random search...\n",
      "pipeline: ['preprocess', 'model']\n",
      "parameters:\n",
      "{'model__C': (0.001, 0.01, 0.1, 1.0),\n",
      " 'model__max_iter': (100, 500, 1000),\n",
      " 'model__penalty': ('l1', 'l2'),\n",
      " 'preprocess__vect__max_df': (0.25, 0.5, 0.75, 1.0),\n",
      " 'preprocess__vect__max_features': (10000, 20000, 30000, 40000, 50000),\n",
      " 'preprocess__vect__min_df': (10, 20, 50, 75, 100),\n",
      " 'preprocess__vect__ngram_range': ((1, 1), (1, 2), (1, 3), (1, 4))}\n",
      "Fitting 5 folds for each of 10 candidates, totalling 50 fits\n"
     ]
    },
    {
     "name": "stderr",
     "output_type": "stream",
     "text": [
      "[Parallel(n_jobs=-1)]: Using backend LokyBackend with 8 concurrent workers.\n",
      "[Parallel(n_jobs=-1)]: Done  34 tasks      | elapsed:  3.7min\n",
      "[Parallel(n_jobs=-1)]: Done  50 out of  50 | elapsed:  6.0min finished\n"
     ]
    },
    {
     "name": "stdout",
     "output_type": "stream",
     "text": [
      "Best CV score: 0.934\n",
      "Best parameters set:\n",
      "\tmodel__C: 0.01\n",
      "\tmodel__max_iter: 1000\n",
      "\tmodel__penalty: 'l2'\n",
      "\tpreprocess__vect__max_df: 0.25\n",
      "\tpreprocess__vect__max_features: 40000\n",
      "\tpreprocess__vect__min_df: 100\n",
      "\tpreprocess__vect__ngram_range: (1, 2)\n",
      "Test score with best_estimator_: 0.937\n",
      "\n",
      "\n",
      "Classification Report Test Data\n",
      "              precision    recall  f1-score   support\n",
      "\n",
      "           0       0.94      1.00      0.97     42989\n",
      "           1       0.94      0.41      0.57      4883\n",
      "\n",
      "    accuracy                           0.94     47872\n",
      "   macro avg       0.94      0.70      0.77     47872\n",
      "weighted avg       0.94      0.94      0.93     47872\n",
      "\n",
      "Cross validation scores: [0.9256754  0.90967653 0.92740806 0.91832832 0.90579681 0.92410287\n",
      " 0.92069543 0.91289125 0.92194525 0.92432206]\n"
     ]
    },
    {
     "data": {
      "image/png": "[encoded data removed]",
      "text/plain": [
       "<Figure size 432x288 with 1 Axes>"
      ]
     },
     "metadata": {
      "needs_background": "light"
     },
     "output_type": "display_data"
    },
    {
     "name": "stdout",
     "output_type": "stream",
     "text": [
      "################################################################\n",
      "Iterasi: 8\n",
      "Performing random search...\n",
      "pipeline: ['preprocess', 'model']\n",
      "parameters:\n",
      "{'model__C': (0.001, 0.01, 0.1, 1.0),\n",
      " 'model__max_iter': (100, 500, 1000),\n",
      " 'model__penalty': ('l1', 'l2'),\n",
      " 'preprocess__vect__max_df': (0.25, 0.5, 0.75, 1.0),\n",
      " 'preprocess__vect__max_features': (10000, 20000, 30000, 40000, 50000),\n",
      " 'preprocess__vect__min_df': (10, 20, 50, 75, 100),\n",
      " 'preprocess__vect__ngram_range': ((1, 1), (1, 2), (1, 3), (1, 4))}\n",
      "Fitting 5 folds for each of 10 candidates, totalling 50 fits\n"
     ]
    },
    {
     "name": "stderr",
     "output_type": "stream",
     "text": [
      "[Parallel(n_jobs=-1)]: Using backend LokyBackend with 8 concurrent workers.\n",
      "[Parallel(n_jobs=-1)]: Done  34 tasks      | elapsed:  5.0min\n",
      "[Parallel(n_jobs=-1)]: Done  50 out of  50 | elapsed:  6.5min finished\n"
     ]
    },
    {
     "name": "stdout",
     "output_type": "stream",
     "text": [
      "Best CV score: 0.956\n",
      "Best parameters set:\n",
      "\tmodel__C: 1.0\n",
      "\tmodel__max_iter: 1000\n",
      "\tmodel__penalty: 'l2'\n",
      "\tpreprocess__vect__max_df: 0.25\n",
      "\tpreprocess__vect__max_features: 50000\n",
      "\tpreprocess__vect__min_df: 10\n",
      "\tpreprocess__vect__ngram_range: (1, 2)\n",
      "Test score with best_estimator_: 0.957\n",
      "\n",
      "\n",
      "Classification Report Test Data\n",
      "              precision    recall  f1-score   support\n",
      "\n",
      "           0       0.97      0.99      0.98     42989\n",
      "           1       0.86      0.69      0.77      4883\n",
      "\n",
      "    accuracy                           0.96     47872\n",
      "   macro avg       0.91      0.84      0.87     47872\n",
      "weighted avg       0.95      0.96      0.95     47872\n",
      "\n",
      "Cross validation scores: [0.95435901 0.93672662 0.94554204 0.94654924 0.94003371 0.95136116\n",
      " 0.95015782 0.93810679 0.94969713 0.94395905]\n"
     ]
    },
    {
     "data": {
      "image/png": "[encoded data removed]",
      "text/plain": [
       "<Figure size 432x288 with 1 Axes>"
      ]
     },
     "metadata": {
      "needs_background": "light"
     },
     "output_type": "display_data"
    },
    {
     "name": "stdout",
     "output_type": "stream",
     "text": [
      "################################################################\n",
      "Iterasi: 9\n",
      "Performing random search...\n",
      "pipeline: ['preprocess', 'model']\n",
      "parameters:\n",
      "{'model__C': (0.001, 0.01, 0.1, 1.0),\n",
      " 'model__max_iter': (100, 500, 1000),\n",
      " 'model__penalty': ('l1', 'l2'),\n",
      " 'preprocess__vect__max_df': (0.25, 0.5, 0.75, 1.0),\n",
      " 'preprocess__vect__max_features': (10000, 20000, 30000, 40000, 50000),\n",
      " 'preprocess__vect__min_df': (10, 20, 50, 75, 100),\n",
      " 'preprocess__vect__ngram_range': ((1, 1), (1, 2), (1, 3), (1, 4))}\n",
      "Fitting 5 folds for each of 10 candidates, totalling 50 fits\n"
     ]
    },
    {
     "name": "stderr",
     "output_type": "stream",
     "text": [
      "[Parallel(n_jobs=-1)]: Using backend LokyBackend with 8 concurrent workers.\n",
      "[Parallel(n_jobs=-1)]: Done  34 tasks      | elapsed:  5.7min\n",
      "[Parallel(n_jobs=-1)]: Done  50 out of  50 | elapsed:  7.3min finished\n"
     ]
    },
    {
     "name": "stdout",
     "output_type": "stream",
     "text": [
      "Best CV score: 0.953\n",
      "Best parameters set:\n",
      "\tmodel__C: 1.0\n",
      "\tmodel__max_iter: 1000\n",
      "\tmodel__penalty: 'l2'\n",
      "\tpreprocess__vect__max_df: 0.5\n",
      "\tpreprocess__vect__max_features: 20000\n",
      "\tpreprocess__vect__min_df: 50\n",
      "\tpreprocess__vect__ngram_range: (1, 3)\n",
      "Test score with best_estimator_: 0.955\n",
      "\n",
      "\n",
      "Classification Report Test Data\n",
      "              precision    recall  f1-score   support\n",
      "\n",
      "           0       0.96      0.99      0.98     42989\n",
      "           1       0.85      0.68      0.75      4883\n",
      "\n",
      "    accuracy                           0.95     47872\n",
      "   macro avg       0.91      0.83      0.86     47872\n",
      "weighted avg       0.95      0.95      0.95     47872\n",
      "\n",
      "Cross validation scores: [0.93835633 0.92279819 0.93321312 0.93121995 0.92649501 0.9359885\n",
      " 0.93353892 0.92721978 0.93605499 0.9304399 ]\n"
     ]
    },
    {
     "data": {
      "image/png": "[encoded data removed]",
      "text/plain": [
       "<Figure size 432x288 with 1 Axes>"
      ]
     },
     "metadata": {
      "needs_background": "light"
     },
     "output_type": "display_data"
    },
    {
     "name": "stdout",
     "output_type": "stream",
     "text": [
      "################################################################\n",
      "Iterasi: 10\n",
      "Performing random search...\n",
      "pipeline: ['preprocess', 'model']\n",
      "parameters:\n",
      "{'model__C': (0.001, 0.01, 0.1, 1.0),\n",
      " 'model__max_iter': (100, 500, 1000),\n",
      " 'model__penalty': ('l1', 'l2'),\n",
      " 'preprocess__vect__max_df': (0.25, 0.5, 0.75, 1.0),\n",
      " 'preprocess__vect__max_features': (10000, 20000, 30000, 40000, 50000),\n",
      " 'preprocess__vect__min_df': (10, 20, 50, 75, 100),\n",
      " 'preprocess__vect__ngram_range': ((1, 1), (1, 2), (1, 3), (1, 4))}\n",
      "Fitting 5 folds for each of 10 candidates, totalling 50 fits\n"
     ]
    },
    {
     "name": "stderr",
     "output_type": "stream",
     "text": [
      "[Parallel(n_jobs=-1)]: Using backend LokyBackend with 8 concurrent workers.\n",
      "[Parallel(n_jobs=-1)]: Done  34 tasks      | elapsed:  4.0min\n",
      "[Parallel(n_jobs=-1)]: Done  50 out of  50 | elapsed:  6.9min finished\n"
     ]
    },
    {
     "name": "stdout",
     "output_type": "stream",
     "text": [
      "Best CV score: 0.953\n",
      "Best parameters set:\n",
      "\tmodel__C: 1.0\n",
      "\tmodel__max_iter: 1000\n",
      "\tmodel__penalty: 'l2'\n",
      "\tpreprocess__vect__max_df: 0.5\n",
      "\tpreprocess__vect__max_features: 40000\n",
      "\tpreprocess__vect__min_df: 50\n",
      "\tpreprocess__vect__ngram_range: (1, 2)\n",
      "Test score with best_estimator_: 0.955\n",
      "\n",
      "\n",
      "Classification Report Test Data\n",
      "              precision    recall  f1-score   support\n",
      "\n",
      "           0       0.96      0.99      0.98     42989\n",
      "           1       0.85      0.68      0.75      4883\n",
      "\n",
      "    accuracy                           0.95     47872\n",
      "   macro avg       0.91      0.83      0.86     47872\n",
      "weighted avg       0.95      0.95      0.95     47872\n",
      "\n",
      "Cross validation scores: [0.93836109 0.92274491 0.93303437 0.93169613 0.92648786 0.93604284\n",
      " 0.93315473 0.92713303 0.93602878 0.93059073]\n"
     ]
    },
    {
     "data": {
      "image/png": "[encoded data removed]",
      "text/plain": [
       "<Figure size 432x288 with 1 Axes>"
      ]
     },
     "metadata": {
      "needs_background": "light"
     },
     "output_type": "display_data"
    }
   ],
   "source": [
    "for i in range(10):\n",
    "    print('################################################################')\n",
    "    print('Iterasi: {}'.format(i+1))\n",
    "    random_vect(parameters_logreg, hate_train, hate_test, label_train, label_test, parameters_vect)"
   ]
  },
  {
   "cell_type": "code",
   "execution_count": 20,
   "metadata": {
    "ExecuteTime": {
     "end_time": "2020-04-13T11:52:06.355656Z",
     "start_time": "2020-04-13T11:52:06.334668Z"
    }
   },
   "outputs": [],
   "source": [
    "# Create a function to find best parameter based on a grid cross validation\n",
    "def grid_vect(parameters_model, X_train, X_test, y_train, y_test, parameters_text):\n",
    "    \n",
    "    add_info = ['exclamation', 'capital_word_percent', 'capital_letter_percent']\n",
    "    \n",
    "    preprocess = ColumnTransformer(\n",
    "                [('exclam', OneHotEncoder(dtype='int', handle_unknown='ignore'), ['exclamation']),\n",
    "                ('cwp', OneHotEncoder(dtype='int', handle_unknown='ignore'), ['capital_word_percent']),\n",
    "                ('clp', OneHotEncoder(dtype='int', handle_unknown='ignore'), ['capital_letter_percent']),\n",
    "                ('vect', CountVectorizer(), 'clean_text')],\n",
    "                remainder='drop', n_jobs=-1)\n",
    "        \n",
    "    pipe_vm = Pipeline([('preprocess', preprocess), ('model', LogisticRegression(n_jobs=-1))])\n",
    "    \n",
    "    # Join the parameters dictionaries together\n",
    "    parameters = dict()\n",
    "    parameters.update(parameters_text)\n",
    "    parameters.update(parameters_model)\n",
    "    grid_search = GridSearchCV(pipe_vm, parameters, n_jobs=-1, verbose=1, cv=5)\n",
    "    \n",
    "    print(\"Performing grid search...\")\n",
    "    print(\"pipeline:\", [name for name, _ in pipe_vm.steps])\n",
    "    print(\"parameters:\")\n",
    "    pprint(parameters)\n",
    "    grid_search.fit(X_train, y_train)\n",
    "    print(\"Best CV score: %0.3f\" % grid_search.best_score_)\n",
    "    print(\"Best parameters set:\")\n",
    "    best_parameters = grid_search.best_estimator_.get_params()\n",
    "    for param_name in sorted(parameters.keys()):\n",
    "        print(\"\\t%s: %r\" % (param_name, best_parameters[param_name]))\n",
    "        \n",
    "    print(\"Test score with best_estimator_: %0.3f\" % grid_search.best_estimator_.score(X_test, y_test))\n",
    "    print(\"\\n\")\n",
    "    print(\"Classification Report Test Data\")\n",
    "    print(classification_report(y_test, grid_search.best_estimator_.predict(X_test)))\n",
    "    scores = cross_val_score(estimator=grid_search.best_estimator_,\n",
    "                X=X_test,\n",
    "                y=y_test,\n",
    "                cv=10,\n",
    "                n_jobs=-1,\n",
    "                scoring='roc_auc')\n",
    "    print('Cross validation scores: {}'.format(scores))\n",
    "    plt.title('Cross validation scores')\n",
    "    plt.scatter(np.arange(len(scores)), scores)\n",
    "    plt.axhline(y=np.mean(scores), color='g') # Mean value of cross validation scores\n",
    "    plt.show()\n",
    "    return grid_search"
   ]
  },
  {
   "cell_type": "code",
   "execution_count": 21,
   "metadata": {
    "ExecuteTime": {
     "end_time": "2020-04-13T11:52:09.441617Z",
     "start_time": "2020-04-13T11:52:09.435602Z"
    }
   },
   "outputs": [],
   "source": [
    "# Parameter grid settings for the vectorizers (Count and TFIDF)\n",
    "parameters_vect = {\n",
    "    'preprocess__vect__max_df': (0.25, 0.5, 1.00),\n",
    "    'preprocess__vect__ngram_range': ((1,1), (1,2), (1,4)),\n",
    "    'preprocess__vect__min_df': (10, 20),\n",
    "    'preprocess__vect__max_features': (20000, 40000, 50000)}\n",
    "\n",
    "# Parameter grid settings for LogisticRegression\n",
    "parameters_logreg = {\n",
    "#     'model__C': (1.0),\n",
    "#     'model__penalty': ('l2'),\n",
    "    'model__max_iter': (500, 1000)}"
   ]
  },
  {
   "cell_type": "code",
   "execution_count": 22,
   "metadata": {
    "ExecuteTime": {
     "end_time": "2020-04-13T13:29:21.497388Z",
     "start_time": "2020-04-13T11:52:52.425132Z"
    }
   },
   "outputs": [
    {
     "name": "stdout",
     "output_type": "stream",
     "text": [
      "Performing grid search...\n",
      "pipeline: ['preprocess', 'model']\n",
      "parameters:\n",
      "{'model__max_iter': (500, 1000),\n",
      " 'preprocess__vect__max_df': (0.25, 0.5, 1.0),\n",
      " 'preprocess__vect__max_features': (20000, 40000, 50000),\n",
      " 'preprocess__vect__min_df': (10, 20),\n",
      " 'preprocess__vect__ngram_range': ((1, 1), (1, 2), (1, 4))}\n",
      "Fitting 5 folds for each of 108 candidates, totalling 540 fits\n"
     ]
    },
    {
     "name": "stderr",
     "output_type": "stream",
     "text": [
      "[Parallel(n_jobs=-1)]: Using backend LokyBackend with 8 concurrent workers.\n",
      "[Parallel(n_jobs=-1)]: Done  34 tasks      | elapsed:  6.2min\n",
      "[Parallel(n_jobs=-1)]: Done 184 tasks      | elapsed: 32.3min\n",
      "[Parallel(n_jobs=-1)]: Done 434 tasks      | elapsed: 74.5min\n",
      "[Parallel(n_jobs=-1)]: Done 540 out of 540 | elapsed: 91.8min finished\n"
     ]
    },
    {
     "name": "stdout",
     "output_type": "stream",
     "text": [
      "Best CV score: 0.956\n",
      "Best parameters set:\n",
      "\tmodel__max_iter: 500\n",
      "\tpreprocess__vect__max_df: 0.25\n",
      "\tpreprocess__vect__max_features: 50000\n",
      "\tpreprocess__vect__min_df: 10\n",
      "\tpreprocess__vect__ngram_range: (1, 4)\n",
      "Test score with best_estimator_: 0.957\n",
      "\n",
      "\n",
      "Classification Report Test Data\n",
      "              precision    recall  f1-score   support\n",
      "\n",
      "           0       0.97      0.99      0.98     42989\n",
      "           1       0.86      0.69      0.77      4883\n",
      "\n",
      "    accuracy                           0.96     47872\n",
      "   macro avg       0.91      0.84      0.87     47872\n",
      "weighted avg       0.96      0.96      0.96     47872\n",
      "\n",
      "Cross validation scores: [0.95462825 0.93693973 0.94570745 0.94601585 0.9404322  0.95064807\n",
      " 0.94998384 0.93819021 0.95001268 0.94376302]\n"
     ]
    },
    {
     "data": {
      "image/png": "[encoded data removed]",
      "text/plain": [
       "<Figure size 432x288 with 1 Axes>"
      ]
     },
     "metadata": {
      "needs_background": "light"
     },
     "output_type": "display_data"
    },
    {
     "data": {
      "text/plain": [
       "GridSearchCV(cv=5, error_score=nan,\n",
       "             estimator=Pipeline(memory=None,\n",
       "                                steps=[('preprocess',\n",
       "                                        ColumnTransformer(n_jobs=-1,\n",
       "                                                          remainder='drop',\n",
       "                                                          sparse_threshold=0.3,\n",
       "                                                          transformer_weights=None,\n",
       "                                                          transformers=[('exclam',\n",
       "                                                                         OneHotEncoder(categories='auto',\n",
       "                                                                                       drop=None,\n",
       "                                                                                       dtype='int',\n",
       "                                                                                       handle_unknown='ignore',\n",
       "                                                                                       sparse=True),\n",
       "                                                                         ['exclamation']),\n",
       "                                                                        ('cwp',\n",
       "                                                                         OneHotEncoder(categories='auto',\n",
       "                                                                                       dr...\n",
       "                                                           warm_start=False))],\n",
       "                                verbose=False),\n",
       "             iid='deprecated', n_jobs=-1,\n",
       "             param_grid={'model__max_iter': (500, 1000),\n",
       "                         'preprocess__vect__max_df': (0.25, 0.5, 1.0),\n",
       "                         'preprocess__vect__max_features': (20000, 40000,\n",
       "                                                            50000),\n",
       "                         'preprocess__vect__min_df': (10, 20),\n",
       "                         'preprocess__vect__ngram_range': ((1, 1), (1, 2),\n",
       "                                                           (1, 4))},\n",
       "             pre_dispatch='2*n_jobs', refit=True, return_train_score=False,\n",
       "             scoring=None, verbose=1)"
      ]
     },
     "execution_count": 22,
     "metadata": {},
     "output_type": "execute_result"
    }
   ],
   "source": [
    "grid_vect(parameters_logreg, hate_train, hate_test, label_train, label_test, parameters_vect)"
   ]
  },
  {
   "cell_type": "code",
   "execution_count": 23,
   "metadata": {
    "ExecuteTime": {
     "end_time": "2020-04-13T13:29:21.515376Z",
     "start_time": "2020-04-13T13:29:21.504382Z"
    }
   },
   "outputs": [],
   "source": [
    "preprocess = ColumnTransformer(\n",
    "                [('exclam', OneHotEncoder(dtype='int', handle_unknown='ignore'), ['exclamation']),\n",
    "                ('cwp', OneHotEncoder(dtype='int', handle_unknown='ignore'), ['capital_word_percent']),\n",
    "                ('clp', OneHotEncoder(dtype='int', handle_unknown='ignore'), ['capital_letter_percent']),\n",
    "                ('vect', CountVectorizer(max_df=0.25, max_features=50000, min_df=10, ngram_range=(1,4)), 'clean_text')],\n",
    "                remainder='drop', n_jobs=-1)\n",
    "        \n",
    "pipe_vm = Pipeline([('preprocess', preprocess), ('model', LogisticRegression(n_jobs=-1, max_iter=500))])"
   ]
  },
  {
   "cell_type": "code",
   "execution_count": 24,
   "metadata": {
    "ExecuteTime": {
     "end_time": "2020-04-13T13:31:12.894120Z",
     "start_time": "2020-04-13T13:29:21.518374Z"
    }
   },
   "outputs": [
    {
     "data": {
      "text/plain": [
       "Pipeline(memory=None,\n",
       "         steps=[('preprocess',\n",
       "                 ColumnTransformer(n_jobs=-1, remainder='drop',\n",
       "                                   sparse_threshold=0.3,\n",
       "                                   transformer_weights=None,\n",
       "                                   transformers=[('exclam',\n",
       "                                                  OneHotEncoder(categories='auto',\n",
       "                                                                drop=None,\n",
       "                                                                dtype='int',\n",
       "                                                                handle_unknown='ignore',\n",
       "                                                                sparse=True),\n",
       "                                                  ['exclamation']),\n",
       "                                                 ('cwp',\n",
       "                                                  OneHotEncoder(categories='auto',\n",
       "                                                                drop=None,\n",
       "                                                                dtype='int',\n",
       "                                                                handle_unknown='ignore',...\n",
       "                                                                  token_pattern='(?u)\\\\b\\\\w\\\\w+\\\\b',\n",
       "                                                                  tokenizer=None,\n",
       "                                                                  vocabulary=None),\n",
       "                                                  'clean_text')],\n",
       "                                   verbose=False)),\n",
       "                ('model',\n",
       "                 LogisticRegression(C=1.0, class_weight=None, dual=False,\n",
       "                                    fit_intercept=True, intercept_scaling=1,\n",
       "                                    l1_ratio=None, max_iter=500,\n",
       "                                    multi_class='auto', n_jobs=-1, penalty='l2',\n",
       "                                    random_state=None, solver='lbfgs',\n",
       "                                    tol=0.0001, verbose=0, warm_start=False))],\n",
       "         verbose=False)"
      ]
     },
     "execution_count": 24,
     "metadata": {},
     "output_type": "execute_result"
    }
   ],
   "source": [
    "pipe_vm.fit(hate_train, label_train)"
   ]
  },
  {
   "cell_type": "code",
   "execution_count": 29,
   "metadata": {
    "ExecuteTime": {
     "end_time": "2020-04-13T14:40:55.344141Z",
     "start_time": "2020-04-13T14:40:55.335147Z"
    }
   },
   "outputs": [],
   "source": [
    "def try_model(text):\n",
    "    df_trial = pd.DataFrame(data=text, columns = ['comment_text'], index=[0])\n",
    "    \n",
    "    inside_info(df_trial)\n",
    "    df_trial['clean_text'] = df_trial['comment_text'].apply(clean)\n",
    "    df_trial = df_trial[['comment_text', 'exclamation', 'capital_word_percent', 'capital_letter_percent', 'clean_text']]\n",
    "    \n",
    "    Predict = pipe_vm.predict(df_trial)\n",
    "    print(Predict)\n",
    "    PredictProb = pipe_vm.predict_proba(df_trial)\n",
    "    print(PredictProb)\n",
    "        \n",
    "    if PredictProb[0][0] > 0.5:\n",
    "        x = print('That comment is not a hate speech with probability of {} %'.format(PredictProb[0][0]*100))\n",
    "    else:\n",
    "        x = print('That comment is a hate speech with probability of {} %'.format(PredictProb[0][1]*100))\n",
    "    return x"
   ]
  },
  {
   "cell_type": "code",
   "execution_count": 33,
   "metadata": {
    "ExecuteTime": {
     "end_time": "2020-04-13T15:04:56.059375Z",
     "start_time": "2020-04-13T15:03:12.344285Z"
    }
   },
   "outputs": [
    {
     "name": "stdout",
     "output_type": "stream",
     "text": [
      "[0]\n",
      "[[0.94003597 0.05996403]]\n",
      "That comment is not a hate speech with probability of 94.0035971024235 %\n"
     ]
    }
   ],
   "source": [
    "try_model('you are good')"
   ]
  },
  {
   "cell_type": "code",
   "execution_count": 32,
   "metadata": {
    "ExecuteTime": {
     "end_time": "2020-04-13T14:45:27.816779Z",
     "start_time": "2020-04-13T14:45:20.967190Z"
    }
   },
   "outputs": [],
   "source": [
    "import pickle\n",
    "filename = 'hate_model.sav';\n",
    "pickle.dump(pipe_vm, open(filename, 'wb'))"
   ]
  },
  {
   "cell_type": "code",
   "execution_count": null,
   "metadata": {},
   "outputs": [],
   "source": []
  }
 ],
 "metadata": {
  "kernelspec": {
   "display_name": "Python 3",
   "language": "python",
   "name": "python3"
  },
  "language_info": {
   "codemirror_mode": {
    "name": "ipython",
    "version": 3
   },
   "file_extension": ".py",
   "mimetype": "text/x-python",
   "name": "python",
   "nbconvert_exporter": "python",
   "pygments_lexer": "ipython3",
   "version": "3.7.4"
  }
 },
 "nbformat": 4,
 "nbformat_minor": 2
}
